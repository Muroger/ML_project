{
 "cells": [
  {
   "cell_type": "code",
   "execution_count": 3,
   "metadata": {
    "colab": {
     "base_uri": "https://localhost:8080/",
     "height": 71
    },
    "colab_type": "code",
    "id": "FNTKnPFoLT3Z",
    "outputId": "c5d14d17-1231-4ec5-d11b-ce76662c77c4"
   },
   "outputs": [
    {
     "name": "stderr",
     "output_type": "stream",
     "text": [
      "/usr/local/lib/python3.6/dist-packages/statsmodels/tools/_testing.py:19: FutureWarning: pandas.util.testing is deprecated. Use the functions in the public API at pandas.testing instead.\n",
      "  import pandas.util.testing as tm\n"
     ]
    }
   ],
   "source": [
    "import pandas as pd\n",
    "import numpy as np\n",
    "import matplotlib.pyplot as plt\n",
    "import seaborn as sns\n",
    "from sklearn.model_selection import train_test_split\n",
    "from sklearn.linear_model import LogisticRegression\n",
    "from sklearn.ensemble import RandomForestClassifier, ExtraTreesClassifier\n",
    "from xgboost import XGBClassifier\n",
    "from sklearn.metrics import f1_score, recall_score, make_scorer\n",
    "from sklearn.metrics import confusion_matrix\n",
    "from sklearn.preprocessing import StandardScaler\n",
    "from sklearn.model_selection import GridSearchCV\n",
    "from sklearn.model_selection import StratifiedKFold\n",
    "\n",
    "from tqdm.notebook import tqdm\n",
    "\n",
    "import torch\n",
    "import torch.nn as nn\n",
    "import torch.utils.data as torch_data\n",
    "\n",
    "import io\n",
    "from google.colab import files"
   ]
  },
  {
   "cell_type": "markdown",
   "metadata": {
    "colab_type": "text",
    "id": "R2I31XDSLT3g"
   },
   "source": [
    "# 1. Download our dataset from digital model"
   ]
  },
  {
   "cell_type": "code",
   "execution_count": 0,
   "metadata": {
    "colab": {},
    "colab_type": "code",
    "id": "Y-462gPqLT3h"
   },
   "outputs": [],
   "source": [
    "#uploaded = files.upload()\n",
    "\n",
    "df = pd.read_csv('dataset1.csv')"
   ]
  },
  {
   "cell_type": "code",
   "execution_count": 142,
   "metadata": {
    "colab": {
     "base_uri": "https://localhost:8080/",
     "height": 680
    },
    "colab_type": "code",
    "id": "LqKvTxzGLT3m",
    "outputId": "b71166bb-aaac-435e-cb7d-58561e8f103b"
   },
   "outputs": [
    {
     "data": {
      "text/plain": [
       "Unnamed: 0                   64000\n",
       "comb_T                       63990\n",
       "comb_P                       63990\n",
       "cp_T                         63992\n",
       "cp_P                         63992\n",
       "ct_T                         63992\n",
       "ct_P                         63992\n",
       "lpc_pr                       63986\n",
       "lpc_mfr                      63988\n",
       "hpc_pr                       63988\n",
       "hpc_mfr                      63990\n",
       "lpt_pr                       63989\n",
       "lpt_mfr                      63992\n",
       "hpt_pr                       63989\n",
       "hpt_mfr                      63989\n",
       "hpc_h                        63994\n",
       "iso_lpc                      63991\n",
       "iso_hpc                      63994\n",
       "iso_lpt                      63993\n",
       "iso_hpt                      63991\n",
       "LPC_rpm                      63992\n",
       "HPC_rpm                      63990\n",
       "lpc_mfr_cor                  63988\n",
       "hpc_mfr_cor                  63992\n",
       "pressure_after_turbine       63990\n",
       "temperature_after_turbine    63993\n",
       "HPC_T                        63994\n",
       "Power                        63993\n",
       "lpc                              6\n",
       "hpc                              6\n",
       "lpt                              3\n",
       "hpt                              3\n",
       "lpc_cond                         2\n",
       "hpc_cond                         2\n",
       "lpt_cond                         2\n",
       "hpt_cond                         2\n",
       "condition                        2\n",
       "state                           16\n",
       "dtype: int64"
      ]
     },
     "execution_count": 142,
     "metadata": {
      "tags": []
     },
     "output_type": "execute_result"
    }
   ],
   "source": [
    "df.nunique()"
   ]
  },
  {
   "cell_type": "code",
   "execution_count": 0,
   "metadata": {
    "colab": {},
    "colab_type": "code",
    "id": "G0oxldDwLT3r"
   },
   "outputs": [],
   "source": [
    "df.drop('Unnamed: 0', axis=1, inplace=True)  # Drop column with all unique values\n",
    "df.drop(['iso_lpc','iso_hpc','iso_lpt','iso_hpt','lpc','hpc','lpt','hpt',\n",
    "         'lpc_cond','hpc_cond','lpt_cond','hpt_cond','condition'], \n",
    "         axis=1, inplace=True) # Drop columns with extra targets and non sensor data"
   ]
  },
  {
   "cell_type": "code",
   "execution_count": 144,
   "metadata": {
    "colab": {
     "base_uri": "https://localhost:8080/",
     "height": 34
    },
    "colab_type": "code",
    "id": "JAye7ohELT3v",
    "outputId": "37b53f1d-9c60-469f-a305-cb43991a4c6e"
   },
   "outputs": [
    {
     "data": {
      "text/plain": [
       "0"
      ]
     },
     "execution_count": 144,
     "metadata": {
      "tags": []
     },
     "output_type": "execute_result"
    }
   ],
   "source": [
    "df.isna().sum().sum()  # No NAN values"
   ]
  },
  {
   "cell_type": "code",
   "execution_count": 145,
   "metadata": {
    "colab": {
     "base_uri": "https://localhost:8080/",
     "height": 439
    },
    "colab_type": "code",
    "id": "BpDQYoR2LT30",
    "outputId": "5d2e140d-4edd-4c63-8eab-fa296d6579a2"
   },
   "outputs": [
    {
     "data": {
      "text/html": [
       "<div>\n",
       "<style scoped>\n",
       "    .dataframe tbody tr th:only-of-type {\n",
       "        vertical-align: middle;\n",
       "    }\n",
       "\n",
       "    .dataframe tbody tr th {\n",
       "        vertical-align: top;\n",
       "    }\n",
       "\n",
       "    .dataframe thead th {\n",
       "        text-align: right;\n",
       "    }\n",
       "</style>\n",
       "<table border=\"1\" class=\"dataframe\">\n",
       "  <thead>\n",
       "    <tr style=\"text-align: right;\">\n",
       "      <th></th>\n",
       "      <th>comb_T</th>\n",
       "      <th>comb_P</th>\n",
       "      <th>cp_T</th>\n",
       "      <th>cp_P</th>\n",
       "      <th>ct_T</th>\n",
       "      <th>ct_P</th>\n",
       "      <th>lpc_pr</th>\n",
       "      <th>lpc_mfr</th>\n",
       "      <th>hpc_pr</th>\n",
       "      <th>hpc_mfr</th>\n",
       "      <th>lpt_pr</th>\n",
       "      <th>lpt_mfr</th>\n",
       "      <th>hpt_pr</th>\n",
       "      <th>hpt_mfr</th>\n",
       "      <th>hpc_h</th>\n",
       "      <th>LPC_rpm</th>\n",
       "      <th>HPC_rpm</th>\n",
       "      <th>lpc_mfr_cor</th>\n",
       "      <th>hpc_mfr_cor</th>\n",
       "      <th>pressure_after_turbine</th>\n",
       "      <th>temperature_after_turbine</th>\n",
       "      <th>HPC_T</th>\n",
       "      <th>Power</th>\n",
       "      <th>state</th>\n",
       "    </tr>\n",
       "  </thead>\n",
       "  <tbody>\n",
       "    <tr>\n",
       "      <th>0</th>\n",
       "      <td>1267.662579</td>\n",
       "      <td>1.463859e+06</td>\n",
       "      <td>448.761322</td>\n",
       "      <td>362104.793974</td>\n",
       "      <td>1180.811482</td>\n",
       "      <td>753253.912457</td>\n",
       "      <td>3.704916</td>\n",
       "      <td>44.205535</td>\n",
       "      <td>3.751988</td>\n",
       "      <td>58.807007</td>\n",
       "      <td>2.857217</td>\n",
       "      <td>66.182892</td>\n",
       "      <td>1.862949</td>\n",
       "      <td>65.176608</td>\n",
       "      <td>728591.436644</td>\n",
       "      <td>6025.263904</td>\n",
       "      <td>10617.562939</td>\n",
       "      <td>44.972336</td>\n",
       "      <td>20.470107</td>\n",
       "      <td>264502.021094</td>\n",
       "      <td>1134.483813</td>\n",
       "      <td>670.835695</td>\n",
       "      <td>1.196676e+07</td>\n",
       "      <td>0</td>\n",
       "    </tr>\n",
       "    <tr>\n",
       "      <th>1</th>\n",
       "      <td>1267.642015</td>\n",
       "      <td>1.463938e+06</td>\n",
       "      <td>448.767483</td>\n",
       "      <td>362121.686853</td>\n",
       "      <td>1180.766005</td>\n",
       "      <td>753307.398782</td>\n",
       "      <td>3.705088</td>\n",
       "      <td>44.207791</td>\n",
       "      <td>3.752020</td>\n",
       "      <td>58.809633</td>\n",
       "      <td>2.857327</td>\n",
       "      <td>66.188949</td>\n",
       "      <td>1.862918</td>\n",
       "      <td>65.180738</td>\n",
       "      <td>728604.088742</td>\n",
       "      <td>6025.388127</td>\n",
       "      <td>10617.683115</td>\n",
       "      <td>44.974631</td>\n",
       "      <td>20.470207</td>\n",
       "      <td>264510.783143</td>\n",
       "      <td>1134.434444</td>\n",
       "      <td>670.845798</td>\n",
       "      <td>1.196778e+07</td>\n",
       "      <td>0</td>\n",
       "    </tr>\n",
       "    <tr>\n",
       "      <th>2</th>\n",
       "      <td>1267.625281</td>\n",
       "      <td>1.464017e+06</td>\n",
       "      <td>448.773607</td>\n",
       "      <td>362138.525128</td>\n",
       "      <td>1180.725959</td>\n",
       "      <td>753359.860645</td>\n",
       "      <td>3.705259</td>\n",
       "      <td>44.210067</td>\n",
       "      <td>3.752051</td>\n",
       "      <td>58.812258</td>\n",
       "      <td>2.857433</td>\n",
       "      <td>66.194759</td>\n",
       "      <td>1.862889</td>\n",
       "      <td>65.184757</td>\n",
       "      <td>728616.668142</td>\n",
       "      <td>6025.512374</td>\n",
       "      <td>10617.803427</td>\n",
       "      <td>44.976946</td>\n",
       "      <td>20.470309</td>\n",
       "      <td>264519.555116</td>\n",
       "      <td>1134.390648</td>\n",
       "      <td>670.855842</td>\n",
       "      <td>1.196882e+07</td>\n",
       "      <td>0</td>\n",
       "    </tr>\n",
       "    <tr>\n",
       "      <th>3</th>\n",
       "      <td>1267.612117</td>\n",
       "      <td>1.464095e+06</td>\n",
       "      <td>448.779695</td>\n",
       "      <td>362155.304375</td>\n",
       "      <td>1180.690957</td>\n",
       "      <td>753411.367415</td>\n",
       "      <td>3.705429</td>\n",
       "      <td>44.212364</td>\n",
       "      <td>3.752083</td>\n",
       "      <td>58.814876</td>\n",
       "      <td>2.857536</td>\n",
       "      <td>66.200338</td>\n",
       "      <td>1.862862</td>\n",
       "      <td>65.188674</td>\n",
       "      <td>728629.193842</td>\n",
       "      <td>6025.636631</td>\n",
       "      <td>10617.923862</td>\n",
       "      <td>44.979284</td>\n",
       "      <td>20.470410</td>\n",
       "      <td>264528.336068</td>\n",
       "      <td>1134.352022</td>\n",
       "      <td>670.865844</td>\n",
       "      <td>1.196988e+07</td>\n",
       "      <td>0</td>\n",
       "    </tr>\n",
       "    <tr>\n",
       "      <th>4</th>\n",
       "      <td>1267.602258</td>\n",
       "      <td>1.464173e+06</td>\n",
       "      <td>448.785749</td>\n",
       "      <td>362172.032182</td>\n",
       "      <td>1180.660634</td>\n",
       "      <td>753461.982419</td>\n",
       "      <td>3.705599</td>\n",
       "      <td>44.214679</td>\n",
       "      <td>3.752116</td>\n",
       "      <td>58.817492</td>\n",
       "      <td>2.857634</td>\n",
       "      <td>66.205702</td>\n",
       "      <td>1.862837</td>\n",
       "      <td>65.192494</td>\n",
       "      <td>728641.656313</td>\n",
       "      <td>6025.760888</td>\n",
       "      <td>10618.044409</td>\n",
       "      <td>44.981639</td>\n",
       "      <td>20.470513</td>\n",
       "      <td>264537.125195</td>\n",
       "      <td>1134.318199</td>\n",
       "      <td>670.875795</td>\n",
       "      <td>1.197096e+07</td>\n",
       "      <td>0</td>\n",
       "    </tr>\n",
       "    <tr>\n",
       "      <th>...</th>\n",
       "      <td>...</td>\n",
       "      <td>...</td>\n",
       "      <td>...</td>\n",
       "      <td>...</td>\n",
       "      <td>...</td>\n",
       "      <td>...</td>\n",
       "      <td>...</td>\n",
       "      <td>...</td>\n",
       "      <td>...</td>\n",
       "      <td>...</td>\n",
       "      <td>...</td>\n",
       "      <td>...</td>\n",
       "      <td>...</td>\n",
       "      <td>...</td>\n",
       "      <td>...</td>\n",
       "      <td>...</td>\n",
       "      <td>...</td>\n",
       "      <td>...</td>\n",
       "      <td>...</td>\n",
       "      <td>...</td>\n",
       "      <td>...</td>\n",
       "      <td>...</td>\n",
       "      <td>...</td>\n",
       "      <td>...</td>\n",
       "    </tr>\n",
       "    <tr>\n",
       "      <th>63995</th>\n",
       "      <td>1027.219663</td>\n",
       "      <td>1.656052e+06</td>\n",
       "      <td>475.993813</td>\n",
       "      <td>428459.139240</td>\n",
       "      <td>977.552263</td>\n",
       "      <td>884526.436802</td>\n",
       "      <td>4.051997</td>\n",
       "      <td>51.527820</td>\n",
       "      <td>4.177075</td>\n",
       "      <td>32.505112</td>\n",
       "      <td>2.919295</td>\n",
       "      <td>84.223955</td>\n",
       "      <td>1.943197</td>\n",
       "      <td>85.474110</td>\n",
       "      <td>811229.721465</td>\n",
       "      <td>6329.212973</td>\n",
       "      <td>11022.138845</td>\n",
       "      <td>52.421635</td>\n",
       "      <td>9.848283</td>\n",
       "      <td>302401.197906</td>\n",
       "      <td>935.012527</td>\n",
       "      <td>735.958673</td>\n",
       "      <td>1.266156e+07</td>\n",
       "      <td>15</td>\n",
       "    </tr>\n",
       "    <tr>\n",
       "      <th>63996</th>\n",
       "      <td>1072.531768</td>\n",
       "      <td>1.292972e+06</td>\n",
       "      <td>466.212723</td>\n",
       "      <td>384340.359400</td>\n",
       "      <td>1027.780994</td>\n",
       "      <td>696843.603139</td>\n",
       "      <td>3.639036</td>\n",
       "      <td>42.139690</td>\n",
       "      <td>3.655410</td>\n",
       "      <td>25.223212</td>\n",
       "      <td>2.951146</td>\n",
       "      <td>65.255416</td>\n",
       "      <td>1.939800</td>\n",
       "      <td>66.384012</td>\n",
       "      <td>758611.459916</td>\n",
       "      <td>5954.776053</td>\n",
       "      <td>10117.498571</td>\n",
       "      <td>42.870656</td>\n",
       "      <td>8.431291</td>\n",
       "      <td>235426.889514</td>\n",
       "      <td>986.549767</td>\n",
       "      <td>694.685990</td>\n",
       "      <td>8.333791e+06</td>\n",
       "      <td>15</td>\n",
       "    </tr>\n",
       "    <tr>\n",
       "      <th>63997</th>\n",
       "      <td>1375.482627</td>\n",
       "      <td>1.286069e+06</td>\n",
       "      <td>441.602353</td>\n",
       "      <td>337051.017948</td>\n",
       "      <td>1284.040815</td>\n",
       "      <td>660241.832750</td>\n",
       "      <td>3.451744</td>\n",
       "      <td>39.321510</td>\n",
       "      <td>3.509592</td>\n",
       "      <td>53.477401</td>\n",
       "      <td>2.774779</td>\n",
       "      <td>55.733919</td>\n",
       "      <td>1.850307</td>\n",
       "      <td>54.716184</td>\n",
       "      <td>716302.757429</td>\n",
       "      <td>5812.256699</td>\n",
       "      <td>10191.122959</td>\n",
       "      <td>40.003592</td>\n",
       "      <td>19.838460</td>\n",
       "      <td>238975.449575</td>\n",
       "      <td>1237.017076</td>\n",
       "      <td>661.002189</td>\n",
       "      <td>1.027660e+07</td>\n",
       "      <td>15</td>\n",
       "    </tr>\n",
       "    <tr>\n",
       "      <th>63998</th>\n",
       "      <td>1089.030963</td>\n",
       "      <td>1.521885e+06</td>\n",
       "      <td>476.213282</td>\n",
       "      <td>405267.891337</td>\n",
       "      <td>1019.452908</td>\n",
       "      <td>786440.189360</td>\n",
       "      <td>4.168274</td>\n",
       "      <td>42.971197</td>\n",
       "      <td>3.468718</td>\n",
       "      <td>60.726423</td>\n",
       "      <td>3.109328</td>\n",
       "      <td>74.007758</td>\n",
       "      <td>1.857246</td>\n",
       "      <td>72.927438</td>\n",
       "      <td>767931.798095</td>\n",
       "      <td>6220.096482</td>\n",
       "      <td>10455.164284</td>\n",
       "      <td>43.716587</td>\n",
       "      <td>19.456014</td>\n",
       "      <td>253573.812306</td>\n",
       "      <td>980.799196</td>\n",
       "      <td>702.043841</td>\n",
       "      <td>1.004365e+07</td>\n",
       "      <td>15</td>\n",
       "    </tr>\n",
       "    <tr>\n",
       "      <th>63999</th>\n",
       "      <td>979.448347</td>\n",
       "      <td>1.375298e+06</td>\n",
       "      <td>473.259888</td>\n",
       "      <td>396461.210197</td>\n",
       "      <td>937.777993</td>\n",
       "      <td>739162.142216</td>\n",
       "      <td>3.737362</td>\n",
       "      <td>42.536303</td>\n",
       "      <td>3.780093</td>\n",
       "      <td>23.545034</td>\n",
       "      <td>2.980981</td>\n",
       "      <td>72.153301</td>\n",
       "      <td>1.941378</td>\n",
       "      <td>73.417364</td>\n",
       "      <td>782085.044900</td>\n",
       "      <td>6008.345276</td>\n",
       "      <td>10349.987846</td>\n",
       "      <td>43.274149</td>\n",
       "      <td>7.687163</td>\n",
       "      <td>247360.298588</td>\n",
       "      <td>900.487634</td>\n",
       "      <td>713.176874</td>\n",
       "      <td>8.373499e+06</td>\n",
       "      <td>15</td>\n",
       "    </tr>\n",
       "  </tbody>\n",
       "</table>\n",
       "<p>64000 rows × 24 columns</p>\n",
       "</div>"
      ],
      "text/plain": [
       "            comb_T        comb_P        cp_T  ...       HPC_T         Power  state\n",
       "0      1267.662579  1.463859e+06  448.761322  ...  670.835695  1.196676e+07      0\n",
       "1      1267.642015  1.463938e+06  448.767483  ...  670.845798  1.196778e+07      0\n",
       "2      1267.625281  1.464017e+06  448.773607  ...  670.855842  1.196882e+07      0\n",
       "3      1267.612117  1.464095e+06  448.779695  ...  670.865844  1.196988e+07      0\n",
       "4      1267.602258  1.464173e+06  448.785749  ...  670.875795  1.197096e+07      0\n",
       "...            ...           ...         ...  ...         ...           ...    ...\n",
       "63995  1027.219663  1.656052e+06  475.993813  ...  735.958673  1.266156e+07     15\n",
       "63996  1072.531768  1.292972e+06  466.212723  ...  694.685990  8.333791e+06     15\n",
       "63997  1375.482627  1.286069e+06  441.602353  ...  661.002189  1.027660e+07     15\n",
       "63998  1089.030963  1.521885e+06  476.213282  ...  702.043841  1.004365e+07     15\n",
       "63999   979.448347  1.375298e+06  473.259888  ...  713.176874  8.373499e+06     15\n",
       "\n",
       "[64000 rows x 24 columns]"
      ]
     },
     "execution_count": 145,
     "metadata": {
      "tags": []
     },
     "output_type": "execute_result"
    }
   ],
   "source": [
    "df"
   ]
  },
  {
   "cell_type": "code",
   "execution_count": 0,
   "metadata": {
    "colab": {},
    "colab_type": "code",
    "id": "iP5JzJaiLT34"
   },
   "outputs": [],
   "source": [
    "X = df.drop('state', axis=1)\n",
    "y = df.state\n",
    "y = np.array(y)"
   ]
  },
  {
   "cell_type": "markdown",
   "metadata": {
    "colab_type": "text",
    "id": "EwG_l6xvLT39"
   },
   "source": [
    "## We have balanced dataset (4000 samples of each class)"
   ]
  },
  {
   "cell_type": "code",
   "execution_count": 147,
   "metadata": {
    "colab": {
     "base_uri": "https://localhost:8080/",
     "height": 279
    },
    "colab_type": "code",
    "id": "8pleCt7PLT3_",
    "outputId": "7f4cfadd-9df4-4a11-899e-a9a5b6f0410c",
    "scrolled": true
   },
   "outputs": [
    {
     "data": {
      "image/png": "[encoded data removed]",
      "text/plain": [
       "<Figure size 576x288 with 1 Axes>"
      ]
     },
     "metadata": {
      "tags": []
     },
     "output_type": "display_data"
    }
   ],
   "source": [
    "plt.figure(figsize=(8, 4))\n",
    "sns.distplot(y, kde=False, hist_kws={\"histtype\": \"bar\", \"alpha\": 1, \"color\": \"r\"})\n",
    "plt.xticks(np.arange(16))\n",
    "plt.xlabel('Faults')\n",
    "plt.ylabel('Number of samples')\n",
    "plt.show()"
   ]
  },
  {
   "cell_type": "code",
   "execution_count": 0,
   "metadata": {
    "colab": {},
    "colab_type": "code",
    "id": "RrcvTDamLT4D"
   },
   "outputs": [],
   "source": [
    "X_train, X_test, y_train, y_test = train_test_split(X, y, test_size=0.3, random_state=0, stratify=y)"
   ]
  },
  {
   "cell_type": "markdown",
   "metadata": {
    "colab_type": "text",
    "id": "dEFctc_HLT4H"
   },
   "source": [
    "# Try different classifiers. Choose best hyperparameters using Grid Search CV"
   ]
  },
  {
   "cell_type": "markdown",
   "metadata": {
    "colab_type": "text",
    "id": "i-mLwetCLT4H"
   },
   "source": [
    "## 1.1 Logistic Regression"
   ]
  },
  {
   "cell_type": "code",
   "execution_count": 0,
   "metadata": {
    "colab": {},
    "colab_type": "code",
    "id": "zhf1MLotaYrT"
   },
   "outputs": [],
   "source": [
    "recall_metric = make_scorer(recall_score, average='macro')\n",
    "f1_metric = make_scorer(f1_score, average='macro')"
   ]
  },
  {
   "cell_type": "code",
   "execution_count": 0,
   "metadata": {
    "colab": {},
    "colab_type": "code",
    "id": "EjxK-9QNLT4I"
   },
   "outputs": [],
   "source": [
    "scaler = StandardScaler()\n",
    "X_train_sc = scaler.fit_transform(X_train)\n",
    "X_test_sc = scaler.transform(X_test)"
   ]
  },
  {
   "cell_type": "code",
   "execution_count": 46,
   "metadata": {
    "colab": {
     "base_uri": "https://localhost:8080/",
     "height": 238
    },
    "colab_type": "code",
    "id": "bE4j1Bq4LT4N",
    "outputId": "551a2310-c7ae-4b44-99d3-cda3758ccd12",
    "scrolled": true
   },
   "outputs": [
    {
     "data": {
      "text/plain": [
       "GridSearchCV(cv=None, error_score=nan,\n",
       "             estimator=LogisticRegression(C=1.0, class_weight=None, dual=False,\n",
       "                                          fit_intercept=True,\n",
       "                                          intercept_scaling=1, l1_ratio=None,\n",
       "                                          max_iter=100, multi_class='auto',\n",
       "                                          n_jobs=-1, penalty='l2',\n",
       "                                          random_state=0, solver='lbfgs',\n",
       "                                          tol=0.0001, verbose=0,\n",
       "                                          warm_start=False),\n",
       "             iid='deprecated', n_jobs=-1,\n",
       "             param_grid={'max_iter': [100, 1000], 'solver': ('saga', 'lbfgs')},\n",
       "             pre_dispatch='2*n_jobs', refit=True, return_train_score=False,\n",
       "             scoring=make_scorer(recall_score, average=macro), verbose=0)"
      ]
     },
     "execution_count": 46,
     "metadata": {
      "tags": []
     },
     "output_type": "execute_result"
    }
   ],
   "source": [
    "lr = LogisticRegression(random_state=0, n_jobs=-1)\n",
    "\n",
    "parameters = {'max_iter': [100, 1000],\n",
    "             'solver': ('saga', 'lbfgs')}\n",
    "\n",
    "lr_grid = GridSearchCV(lr, parameters, n_jobs=-1, scoring=recall_metric)\n",
    "lr_grid.fit(X_train_sc, y_train)"
   ]
  },
  {
   "cell_type": "code",
   "execution_count": 47,
   "metadata": {
    "colab": {
     "base_uri": "https://localhost:8080/",
     "height": 34
    },
    "colab_type": "code",
    "id": "iGk94WYyLT4S",
    "outputId": "193ba935-d208-4f24-fc72-85ec40cac6b1"
   },
   "outputs": [
    {
     "data": {
      "text/plain": [
       "{'max_iter': 1000, 'solver': 'lbfgs'}"
      ]
     },
     "execution_count": 47,
     "metadata": {
      "tags": []
     },
     "output_type": "execute_result"
    }
   ],
   "source": [
    "lr_grid.best_params_"
   ]
  },
  {
   "cell_type": "code",
   "execution_count": 48,
   "metadata": {
    "colab": {
     "base_uri": "https://localhost:8080/",
     "height": 119
    },
    "colab_type": "code",
    "id": "bb2TsXwzLT4W",
    "outputId": "bfd2c196-e682-478a-d8c8-e04b43420e1f",
    "scrolled": true
   },
   "outputs": [
    {
     "name": "stdout",
     "output_type": "stream",
     "text": [
      "CV\n",
      "Recall Score: 0.5\n",
      "\n",
      "Test\n",
      "F1 Score: 0.49\n",
      "Recall Score: 0.51\n"
     ]
    }
   ],
   "source": [
    "print('CV')\n",
    "print(f'Recall Score: {round(lr_grid.best_score_, 2)}\\n')  \n",
    "\n",
    "lr_pred_test = lr_grid.predict(X_test_sc)\n",
    "f1 = f1_score(y_test, lr_pred_test, average='macro')  # Set macro cause we have balanced dataset\n",
    "recall = recall_score(y_test, lr_pred_test, average='macro')\n",
    "print('Test')\n",
    "print(f'F1 Score: {round(f1, 2)}') \n",
    "print(f'Recall Score: {round(recall, 2)}')  "
   ]
  },
  {
   "cell_type": "markdown",
   "metadata": {
    "colab_type": "text",
    "id": "6aTke9rbLT4a"
   },
   "source": [
    "## 1.2 Random Forest"
   ]
  },
  {
   "cell_type": "code",
   "execution_count": 50,
   "metadata": {
    "colab": {
     "base_uri": "https://localhost:8080/",
     "height": 394
    },
    "colab_type": "code",
    "id": "MtfJ2hTALT4b",
    "outputId": "6fd564d4-4d3b-4a12-ab69-a6d79ec5067e"
   },
   "outputs": [
    {
     "name": "stderr",
     "output_type": "stream",
     "text": [
      "/usr/local/lib/python3.6/dist-packages/joblib/externals/loky/process_executor.py:706: UserWarning: A worker stopped while some jobs were given to the executor. This can be caused by a too short worker timeout or by a memory leak.\n",
      "  \"timeout or by a memory leak.\", UserWarning\n"
     ]
    },
    {
     "data": {
      "text/plain": [
       "GridSearchCV(cv=None, error_score=nan,\n",
       "             estimator=RandomForestClassifier(bootstrap=True, ccp_alpha=0.0,\n",
       "                                              class_weight=None,\n",
       "                                              criterion='gini', max_depth=None,\n",
       "                                              max_features='auto',\n",
       "                                              max_leaf_nodes=None,\n",
       "                                              max_samples=None,\n",
       "                                              min_impurity_decrease=0.0,\n",
       "                                              min_impurity_split=None,\n",
       "                                              min_samples_leaf=1,\n",
       "                                              min_samples_split=2,\n",
       "                                              min_weight_fraction_leaf=0.0,\n",
       "                                              n_estimators=100, n_jobs=-1,\n",
       "                                              oob_score=False, random_state=0,\n",
       "                                              verbose=0, warm_start=False),\n",
       "             iid='deprecated', n_jobs=-1,\n",
       "             param_grid={'n_estimators': [100, 200]}, pre_dispatch='2*n_jobs',\n",
       "             refit=True, return_train_score=False,\n",
       "             scoring=make_scorer(recall_score, average=macro), verbose=0)"
      ]
     },
     "execution_count": 50,
     "metadata": {
      "tags": []
     },
     "output_type": "execute_result"
    }
   ],
   "source": [
    "rfc = RandomForestClassifier(n_jobs=-1, random_state=0)\n",
    "\n",
    "parameters = {'n_estimators': [100, 200]}\n",
    "\n",
    "rfc_grid = GridSearchCV(rfc, parameters, n_jobs=-1, scoring=recall_metric)\n",
    "rfc_grid.fit(X_train, y_train)"
   ]
  },
  {
   "cell_type": "code",
   "execution_count": 51,
   "metadata": {
    "colab": {
     "base_uri": "https://localhost:8080/",
     "height": 34
    },
    "colab_type": "code",
    "id": "c-h1hUtMLT4f",
    "outputId": "5248e599-4252-4401-97eb-0291ec4e21a9"
   },
   "outputs": [
    {
     "data": {
      "text/plain": [
       "{'n_estimators': 200}"
      ]
     },
     "execution_count": 51,
     "metadata": {
      "tags": []
     },
     "output_type": "execute_result"
    }
   ],
   "source": [
    "rfc_grid.best_params_"
   ]
  },
  {
   "cell_type": "code",
   "execution_count": 52,
   "metadata": {
    "colab": {
     "base_uri": "https://localhost:8080/",
     "height": 119
    },
    "colab_type": "code",
    "id": "QgPtZuOKLT4i",
    "outputId": "e578eed2-ae58-4b97-c8d4-bf407ea28ca5"
   },
   "outputs": [
    {
     "name": "stdout",
     "output_type": "stream",
     "text": [
      "CV\n",
      "Recall Score: 0.84\n",
      "\n",
      "Test\n",
      "F1 Score: 0.86\n",
      "Recall Score: 0.86\n"
     ]
    }
   ],
   "source": [
    "print('CV')\n",
    "print(f'Recall Score: {round(rfc_grid.best_score_, 2)}\\n')  \n",
    "\n",
    "rfc_pred_test = rfc_grid.predict(X_test)\n",
    "f1 = f1_score(y_test, rfc_pred_test, average='macro')  # Set macro cause we have balanced dataset\n",
    "recall = recall_score(y_test, rfc_pred_test, average='macro')\n",
    "print('Test')\n",
    "print(f'F1 Score: {round(f1, 2)}') \n",
    "print(f'Recall Score: {round(recall, 2)}')   "
   ]
  },
  {
   "cell_type": "markdown",
   "metadata": {
    "colab_type": "text",
    "id": "Qv9NdBQlLT4n"
   },
   "source": [
    "# 1.3 XGBoost"
   ]
  },
  {
   "cell_type": "code",
   "execution_count": 17,
   "metadata": {
    "colab": {
     "base_uri": "https://localhost:8080/",
     "height": 326
    },
    "colab_type": "code",
    "id": "OCZgMRIuLT4p",
    "outputId": "c203b336-f1ae-4c64-b117-a9702c7ac3ff",
    "scrolled": true
   },
   "outputs": [
    {
     "name": "stderr",
     "output_type": "stream",
     "text": [
      "/usr/local/lib/python3.6/dist-packages/joblib/externals/loky/process_executor.py:706: UserWarning: A worker stopped while some jobs were given to the executor. This can be caused by a too short worker timeout or by a memory leak.\n",
      "  \"timeout or by a memory leak.\", UserWarning\n"
     ]
    },
    {
     "data": {
      "text/plain": [
       "GridSearchCV(cv=None, error_score=nan,\n",
       "             estimator=XGBClassifier(base_score=0.5, booster='gbtree',\n",
       "                                     colsample_bylevel=1, colsample_bynode=1,\n",
       "                                     colsample_bytree=1, gamma=0,\n",
       "                                     learning_rate=0.1, max_delta_step=0,\n",
       "                                     max_depth=3, min_child_weight=1,\n",
       "                                     missing=None, n_estimators=100, n_jobs=-1,\n",
       "                                     nthread=None, objective='binary:logistic',\n",
       "                                     random_state=0, reg_alpha=0, reg_lambda=1,\n",
       "                                     scale_pos_weight=1, seed=None, silent=None,\n",
       "                                     subsample=1, verbosity=1),\n",
       "             iid='deprecated', n_jobs=-1,\n",
       "             param_grid={'n_estimators': [100, 200]}, pre_dispatch='2*n_jobs',\n",
       "             refit=True, return_train_score=False,\n",
       "             scoring=make_scorer(recall_score, average=macro), verbose=0)"
      ]
     },
     "execution_count": 17,
     "metadata": {
      "tags": []
     },
     "output_type": "execute_result"
    }
   ],
   "source": [
    "xgb = XGBClassifier(n_jobs=-1, random_state=0)\n",
    "\n",
    "parameters = {'n_estimators': [100, 200]}\n",
    "\n",
    "xgb_grid = GridSearchCV(xgb, parameters, n_jobs=-1, scoring=recall_metric)\n",
    "xgb_grid.fit(X_train, y_train)"
   ]
  },
  {
   "cell_type": "code",
   "execution_count": 18,
   "metadata": {
    "colab": {
     "base_uri": "https://localhost:8080/",
     "height": 34
    },
    "colab_type": "code",
    "id": "6vrBijX5LT4u",
    "outputId": "19b4ae73-00ad-4241-fd03-42fe190de312"
   },
   "outputs": [
    {
     "data": {
      "text/plain": [
       "{'n_estimators': 200}"
      ]
     },
     "execution_count": 18,
     "metadata": {
      "tags": []
     },
     "output_type": "execute_result"
    }
   ],
   "source": [
    "xgb_grid.best_params_"
   ]
  },
  {
   "cell_type": "code",
   "execution_count": 19,
   "metadata": {
    "colab": {
     "base_uri": "https://localhost:8080/",
     "height": 119
    },
    "colab_type": "code",
    "id": "Bs3CtMUpLT41",
    "outputId": "2384e656-4af1-4d45-8f04-3bc7d49834e5",
    "scrolled": true
   },
   "outputs": [
    {
     "name": "stdout",
     "output_type": "stream",
     "text": [
      "CV\n",
      "Recall Score: 0.64\n",
      "\n",
      "Test\n",
      "F1 Score: 0.63\n",
      "Recall Score: 0.64\n"
     ]
    }
   ],
   "source": [
    "print('CV')\n",
    "print(f'Recall Score: {round(xgb_grid.best_score_, 2)}\\n')  \n",
    "\n",
    "xgb_pred_test = xgb_grid.predict(X_test)\n",
    "f1 = f1_score(y_test, xgb_pred_test, average='macro')  # Set macro cause we have balanced dataset\n",
    "recall = recall_score(y_test, xgb_pred_test, average='macro')\n",
    "print('Test')\n",
    "print(f'F1 Score: {round(f1, 2)}') \n",
    "print(f'Recall Score: {round(recall, 2)}')  "
   ]
  },
  {
   "cell_type": "markdown",
   "metadata": {
    "colab_type": "text",
    "id": "TkTzdtKJg_p2"
   },
   "source": [
    "## Look at feature importances of Random Forest and XGBoost"
   ]
  },
  {
   "cell_type": "code",
   "execution_count": 24,
   "metadata": {
    "colab": {
     "base_uri": "https://localhost:8080/",
     "height": 676
    },
    "colab_type": "code",
    "id": "vIQeD-aBLT45",
    "outputId": "8f562230-2056-479e-bef1-d8ce8cc3c1cc"
   },
   "outputs": [
    {
     "data": {
      "image/png": "[encoded data removed]",
      "text/plain": [
       "<Figure size 576x792 with 2 Axes>"
      ]
     },
     "metadata": {
      "tags": []
     },
     "output_type": "display_data"
    }
   ],
   "source": [
    "plt.figure(figsize=(8, 11))\n",
    "plt.subplot(2, 1, 1, title='Random Forest Feature Importances')\n",
    "plt.bar(range(len(rfc_grid.best_estimator_.feature_importances_)), rfc_grid.best_estimator_.feature_importances_, color='b')\n",
    "plt.xticks(np.arange(23))\n",
    "plt.xlabel('Features')\n",
    "plt.ylabel('Importance')\n",
    "plt.subplot(2, 1, 2, title='XGBoost Feature Importances')\n",
    "plt.bar(range(len(xgb_grid.best_estimator_.feature_importances_)), xgb_grid.best_estimator_.feature_importances_, color='r')\n",
    "plt.xticks(np.arange(23))\n",
    "plt.xlabel('Features')\n",
    "plt.ylabel('Importance')\n",
    "plt.show()"
   ]
  },
  {
   "cell_type": "code",
   "execution_count": 22,
   "metadata": {
    "colab": {
     "base_uri": "https://localhost:8080/",
     "height": 68
    },
    "colab_type": "code",
    "id": "VQIdullDD0sV",
    "outputId": "f1d7ed4c-f2e8-4d7e-8619-693ce6373339"
   },
   "outputs": [
    {
     "name": "stdout",
     "output_type": "stream",
     "text": [
      "TOP 5 Important features\n",
      "Random Forest: hpc_pr, hpc_h, HPC_rpm, pressure_after_turbine, HPC_T\n",
      "XGBoost: hpc_pr, lpt_mfr, HPC_rpm, hpc_mfr_cor, pressure_after_turbine\n"
     ]
    }
   ],
   "source": [
    "print('TOP 5 Important features')\n",
    "print(f'Random Forest: {df.columns[8]}, {df.columns[14]}, {df.columns[16]}, {df.columns[19]}, {df.columns[21]}')\n",
    "print(f'XGBoost: {df.columns[8]}, {df.columns[11]}, {df.columns[16]}, {df.columns[18]}, {df.columns[19]}')"
   ]
  },
  {
   "cell_type": "markdown",
   "metadata": {
    "colab_type": "text",
    "id": "783DWSZCLT5l"
   },
   "source": [
    "# 2. Let's add more samples in our dataset to improve scores. Generate new dataset with double number of samples"
   ]
  },
  {
   "cell_type": "code",
   "execution_count": 5,
   "metadata": {
    "colab": {
     "base_uri": "https://localhost:8080/",
     "height": 74,
     "resources": {
      "http://localhost:8080/nbextensions/google.colab/files.js": {
       "data": "Ly8gQ29weXJpZ2h0IDIwMTcgR29vZ2xlIExMQwovLwovLyBMaWNlbnNlZCB1bmRlciB0aGUgQXBhY2hlIExpY2Vuc2UsIFZlcnNpb24gMi4wICh0aGUgIkxpY2Vuc2UiKTsKLy8geW91IG1heSBub3QgdXNlIHRoaXMgZmlsZSBleGNlcHQgaW4gY29tcGxpYW5jZSB3aXRoIHRoZSBMaWNlbnNlLgovLyBZb3UgbWF5IG9idGFpbiBhIGNvcHkgb2YgdGhlIExpY2Vuc2UgYXQKLy8KLy8gICAgICBodHRwOi8vd3d3LmFwYWNoZS5vcmcvbGljZW5zZXMvTElDRU5TRS0yLjAKLy8KLy8gVW5sZXNzIHJlcXVpcmVkIGJ5IGFwcGxpY2FibGUgbGF3IG9yIGFncmVlZCB0byBpbiB3cml0aW5nLCBzb2Z0d2FyZQovLyBkaXN0cmlidXRlZCB1bmRlciB0aGUgTGljZW5zZSBpcyBkaXN0cmlidXRlZCBvbiBhbiAiQVMgSVMiIEJBU0lTLAovLyBXSVRIT1VUIFdBUlJBTlRJRVMgT1IgQ09ORElUSU9OUyBPRiBBTlkgS0lORCwgZWl0aGVyIGV4cHJlc3Mgb3IgaW1wbGllZC4KLy8gU2VlIHRoZSBMaWNlbnNlIGZvciB0aGUgc3BlY2lmaWMgbGFuZ3VhZ2UgZ292ZXJuaW5nIHBlcm1pc3Npb25zIGFuZAovLyBsaW1pdGF0aW9ucyB1bmRlciB0aGUgTGljZW5zZS4KCi8qKgogKiBAZmlsZW92ZXJ2aWV3IEhlbHBlcnMgZm9yIGdvb2dsZS5jb2xhYiBQeXRob24gbW9kdWxlLgogKi8KKGZ1bmN0aW9uKHNjb3BlKSB7CmZ1bmN0aW9uIHNwYW4odGV4dCwgc3R5bGVBdHRyaWJ1dGVzID0ge30pIHsKICBjb25zdCBlbGVtZW50ID0gZG9jdW1lbnQuY3JlYXRlRWxlbWVudCgnc3BhbicpOwogIGVsZW1lbnQudGV4dENvbnRlbnQgPSB0ZXh0OwogIGZvciAoY29uc3Qga2V5IG9mIE9iamVjdC5rZXlzKHN0eWxlQXR0cmlidXRlcykpIHsKICAgIGVsZW1lbnQuc3R5bGVba2V5XSA9IHN0eWxlQXR0cmlidXRlc1trZXldOwogIH0KICByZXR1cm4gZWxlbWVudDsKfQoKLy8gTWF4IG51bWJlciBvZiBieXRlcyB3aGljaCB3aWxsIGJlIHVwbG9hZGVkIGF0IGEgdGltZS4KY29uc3QgTUFYX1BBWUxPQURfU0laRSA9IDEwMCAqIDEwMjQ7Ci8vIE1heCBhbW91bnQgb2YgdGltZSB0byBibG9jayB3YWl0aW5nIGZvciB0aGUgdXNlci4KY29uc3QgRklMRV9DSEFOR0VfVElNRU9VVF9NUyA9IDMwICogMTAwMDsKCmZ1bmN0aW9uIF91cGxvYWRGaWxlcyhpbnB1dElkLCBvdXRwdXRJZCkgewogIGNvbnN0IHN0ZXBzID0gdXBsb2FkRmlsZXNTdGVwKGlucHV0SWQsIG91dHB1dElkKTsKICBjb25zdCBvdXRwdXRFbGVtZW50ID0gZG9jdW1lbnQuZ2V0RWxlbWVudEJ5SWQob3V0cHV0SWQpOwogIC8vIENhY2hlIHN0ZXBzIG9uIHRoZSBvdXRwdXRFbGVtZW50IHRvIG1ha2UgaXQgYXZhaWxhYmxlIGZvciB0aGUgbmV4dCBjYWxsCiAgLy8gdG8gdXBsb2FkRmlsZXNDb250aW51ZSBmcm9tIFB5dGhvbi4KICBvdXRwdXRFbGVtZW50LnN0ZXBzID0gc3RlcHM7CgogIHJldHVybiBfdXBsb2FkRmlsZXNDb250aW51ZShvdXRwdXRJZCk7Cn0KCi8vIFRoaXMgaXMgcm91Z2hseSBhbiBhc3luYyBnZW5lcmF0b3IgKG5vdCBzdXBwb3J0ZWQgaW4gdGhlIGJyb3dzZXIgeWV0KSwKLy8gd2hlcmUgdGhlcmUgYXJlIG11bHRpcGxlIGFzeW5jaHJvbm91cyBzdGVwcyBhbmQgdGhlIFB5dGhvbiBzaWRlIGlzIGdvaW5nCi8vIHRvIHBvbGwgZm9yIGNvbXBsZXRpb24gb2YgZWFjaCBzdGVwLgovLyBUaGlzIHVzZXMgYSBQcm9taXNlIHRvIGJsb2NrIHRoZSBweXRob24gc2lkZSBvbiBjb21wbGV0aW9uIG9mIGVhY2ggc3RlcCwKLy8gdGhlbiBwYXNzZXMgdGhlIHJlc3VsdCBvZiB0aGUgcHJldmlvdXMgc3RlcCBhcyB0aGUgaW5wdXQgdG8gdGhlIG5leHQgc3RlcC4KZnVuY3Rpb24gX3VwbG9hZEZpbGVzQ29udGludWUob3V0cHV0SWQpIHsKICBjb25zdCBvdXRwdXRFbGVtZW50ID0gZG9jdW1lbnQuZ2V0RWxlbWVudEJ5SWQob3V0cHV0SWQpOwogIGNvbnN0IHN0ZXBzID0gb3V0cHV0RWxlbWVudC5zdGVwczsKCiAgY29uc3QgbmV4dCA9IHN0ZXBzLm5leHQob3V0cHV0RWxlbWVudC5sYXN0UHJvbWlzZVZhbHVlKTsKICByZXR1cm4gUHJvbWlzZS5yZXNvbHZlKG5leHQudmFsdWUucHJvbWlzZSkudGhlbigodmFsdWUpID0+IHsKICAgIC8vIENhY2hlIHRoZSBsYXN0IHByb21pc2UgdmFsdWUgdG8gbWFrZSBpdCBhdmFpbGFibGUgdG8gdGhlIG5leHQKICAgIC8vIHN0ZXAgb2YgdGhlIGdlbmVyYXRvci4KICAgIG91dHB1dEVsZW1lbnQubGFzdFByb21pc2VWYWx1ZSA9IHZhbHVlOwogICAgcmV0dXJuIG5leHQudmFsdWUucmVzcG9uc2U7CiAgfSk7Cn0KCi8qKgogKiBHZW5lcmF0b3IgZnVuY3Rpb24gd2hpY2ggaXMgY2FsbGVkIGJldHdlZW4gZWFjaCBhc3luYyBzdGVwIG9mIHRoZSB1cGxvYWQKICogcHJvY2Vzcy4KICogQHBhcmFtIHtzdHJpbmd9IGlucHV0SWQgRWxlbWVudCBJRCBvZiB0aGUgaW5wdXQgZmlsZSBwaWNrZXIgZWxlbWVudC4KICogQHBhcmFtIHtzdHJpbmd9IG91dHB1dElkIEVsZW1lbnQgSUQgb2YgdGhlIG91dHB1dCBkaXNwbGF5LgogKiBAcmV0dXJuIHshSXRlcmFibGU8IU9iamVjdD59IEl0ZXJhYmxlIG9mIG5leHQgc3RlcHMuCiAqLwpmdW5jdGlvbiogdXBsb2FkRmlsZXNTdGVwKGlucHV0SWQsIG91dHB1dElkKSB7CiAgY29uc3QgaW5wdXRFbGVtZW50ID0gZG9jdW1lbnQuZ2V0RWxlbWVudEJ5SWQoaW5wdXRJZCk7CiAgaW5wdXRFbGVtZW50LmRpc2FibGVkID0gZmFsc2U7CgogIGNvbnN0IG91dHB1dEVsZW1lbnQgPSBkb2N1bWVudC5nZXRFbGVtZW50QnlJZChvdXRwdXRJZCk7CiAgb3V0cHV0RWxlbWVudC5pbm5lckhUTUwgPSAnJzsKCiAgY29uc3QgcGlja2VkUHJvbWlzZSA9IG5ldyBQcm9taXNlKChyZXNvbHZlKSA9PiB7CiAgICBpbnB1dEVsZW1lbnQuYWRkRXZlbnRMaXN0ZW5lcignY2hhbmdlJywgKGUpID0+IHsKICAgICAgcmVzb2x2ZShlLnRhcmdldC5maWxlcyk7CiAgICB9KTsKICB9KTsKCiAgY29uc3QgY2FuY2VsID0gZG9jdW1lbnQuY3JlYXRlRWxlbWVudCgnYnV0dG9uJyk7CiAgaW5wdXRFbGVtZW50LnBhcmVudEVsZW1lbnQuYXBwZW5kQ2hpbGQoY2FuY2VsKTsKICBjYW5jZWwudGV4dENvbnRlbnQgPSAnQ2FuY2VsIHVwbG9hZCc7CiAgY29uc3QgY2FuY2VsUHJvbWlzZSA9IG5ldyBQcm9taXNlKChyZXNvbHZlKSA9PiB7CiAgICBjYW5jZWwub25jbGljayA9ICgpID0+IHsKICAgICAgcmVzb2x2ZShudWxsKTsKICAgIH07CiAgfSk7CgogIC8vIENhbmNlbCB1cGxvYWQgaWYgdXNlciBoYXNuJ3QgcGlja2VkIGFueXRoaW5nIGluIHRpbWVvdXQuCiAgY29uc3QgdGltZW91dFByb21pc2UgPSBuZXcgUHJvbWlzZSgocmVzb2x2ZSkgPT4gewogICAgc2V0VGltZW91dCgoKSA9PiB7CiAgICAgIHJlc29sdmUobnVsbCk7CiAgICB9LCBGSUxFX0NIQU5HRV9USU1FT1VUX01TKTsKICB9KTsKCiAgLy8gV2FpdCBmb3IgdGhlIHVzZXIgdG8gcGljayB0aGUgZmlsZXMuCiAgY29uc3QgZmlsZXMgPSB5aWVsZCB7CiAgICBwcm9taXNlOiBQcm9taXNlLnJhY2UoW3BpY2tlZFByb21pc2UsIHRpbWVvdXRQcm9taXNlLCBjYW5jZWxQcm9taXNlXSksCiAgICByZXNwb25zZTogewogICAgICBhY3Rpb246ICdzdGFydGluZycsCiAgICB9CiAgfTsKCiAgaWYgKCFmaWxlcykgewogICAgcmV0dXJuIHsKICAgICAgcmVzcG9uc2U6IHsKICAgICAgICBhY3Rpb246ICdjb21wbGV0ZScsCiAgICAgIH0KICAgIH07CiAgfQoKICBjYW5jZWwucmVtb3ZlKCk7CgogIC8vIERpc2FibGUgdGhlIGlucHV0IGVsZW1lbnQgc2luY2UgZnVydGhlciBwaWNrcyBhcmUgbm90IGFsbG93ZWQuCiAgaW5wdXRFbGVtZW50LmRpc2FibGVkID0gdHJ1ZTsKCiAgZm9yIChjb25zdCBmaWxlIG9mIGZpbGVzKSB7CiAgICBjb25zdCBsaSA9IGRvY3VtZW50LmNyZWF0ZUVsZW1lbnQoJ2xpJyk7CiAgICBsaS5hcHBlbmQoc3BhbihmaWxlLm5hbWUsIHtmb250V2VpZ2h0OiAnYm9sZCd9KSk7CiAgICBsaS5hcHBlbmQoc3BhbigKICAgICAgICBgKCR7ZmlsZS50eXBlIHx8ICduL2EnfSkgLSAke2ZpbGUuc2l6ZX0gYnl0ZXMsIGAgKwogICAgICAgIGBsYXN0IG1vZGlmaWVkOiAkewogICAgICAgICAgICBmaWxlLmxhc3RNb2RpZmllZERhdGUgPyBmaWxlLmxhc3RNb2RpZmllZERhdGUudG9Mb2NhbGVEYXRlU3RyaW5nKCkgOgogICAgICAgICAgICAgICAgICAgICAgICAgICAgICAgICAgICAnbi9hJ30gLSBgKSk7CiAgICBjb25zdCBwZXJjZW50ID0gc3BhbignMCUgZG9uZScpOwogICAgbGkuYXBwZW5kQ2hpbGQocGVyY2VudCk7CgogICAgb3V0cHV0RWxlbWVudC5hcHBlbmRDaGlsZChsaSk7CgogICAgY29uc3QgZmlsZURhdGFQcm9taXNlID0gbmV3IFByb21pc2UoKHJlc29sdmUpID0+IHsKICAgICAgY29uc3QgcmVhZGVyID0gbmV3IEZpbGVSZWFkZXIoKTsKICAgICAgcmVhZGVyLm9ubG9hZCA9IChlKSA9PiB7CiAgICAgICAgcmVzb2x2ZShlLnRhcmdldC5yZXN1bHQpOwogICAgICB9OwogICAgICByZWFkZXIucmVhZEFzQXJyYXlCdWZmZXIoZmlsZSk7CiAgICB9KTsKICAgIC8vIFdhaXQgZm9yIHRoZSBkYXRhIHRvIGJlIHJlYWR5LgogICAgbGV0IGZpbGVEYXRhID0geWllbGQgewogICAgICBwcm9taXNlOiBmaWxlRGF0YVByb21pc2UsCiAgICAgIHJlc3BvbnNlOiB7CiAgICAgICAgYWN0aW9uOiAnY29udGludWUnLAogICAgICB9CiAgICB9OwoKICAgIC8vIFVzZSBhIGNodW5rZWQgc2VuZGluZyB0byBhdm9pZCBtZXNzYWdlIHNpemUgbGltaXRzLiBTZWUgYi82MjExNTY2MC4KICAgIGxldCBwb3NpdGlvbiA9IDA7CiAgICB3aGlsZSAocG9zaXRpb24gPCBmaWxlRGF0YS5ieXRlTGVuZ3RoKSB7CiAgICAgIGNvbnN0IGxlbmd0aCA9IE1hdGgubWluKGZpbGVEYXRhLmJ5dGVMZW5ndGggLSBwb3NpdGlvbiwgTUFYX1BBWUxPQURfU0laRSk7CiAgICAgIGNvbnN0IGNodW5rID0gbmV3IFVpbnQ4QXJyYXkoZmlsZURhdGEsIHBvc2l0aW9uLCBsZW5ndGgpOwogICAgICBwb3NpdGlvbiArPSBsZW5ndGg7CgogICAgICBjb25zdCBiYXNlNjQgPSBidG9hKFN0cmluZy5mcm9tQ2hhckNvZGUuYXBwbHkobnVsbCwgY2h1bmspKTsKICAgICAgeWllbGQgewogICAgICAgIHJlc3BvbnNlOiB7CiAgICAgICAgICBhY3Rpb246ICdhcHBlbmQnLAogICAgICAgICAgZmlsZTogZmlsZS5uYW1lLAogICAgICAgICAgZGF0YTogYmFzZTY0LAogICAgICAgIH0sCiAgICAgIH07CiAgICAgIHBlcmNlbnQudGV4dENvbnRlbnQgPQogICAgICAgICAgYCR7TWF0aC5yb3VuZCgocG9zaXRpb24gLyBmaWxlRGF0YS5ieXRlTGVuZ3RoKSAqIDEwMCl9JSBkb25lYDsKICAgIH0KICB9CgogIC8vIEFsbCBkb25lLgogIHlpZWxkIHsKICAgIHJlc3BvbnNlOiB7CiAgICAgIGFjdGlvbjogJ2NvbXBsZXRlJywKICAgIH0KICB9Owp9CgpzY29wZS5nb29nbGUgPSBzY29wZS5nb29nbGUgfHwge307CnNjb3BlLmdvb2dsZS5jb2xhYiA9IHNjb3BlLmdvb2dsZS5jb2xhYiB8fCB7fTsKc2NvcGUuZ29vZ2xlLmNvbGFiLl9maWxlcyA9IHsKICBfdXBsb2FkRmlsZXMsCiAgX3VwbG9hZEZpbGVzQ29udGludWUsCn07Cn0pKHNlbGYpOwo=",
       "headers": [
        [
         "content-type",
         "application/javascript"
        ]
       ],
       "ok": true,
       "status": 200,
       "status_text": ""
      }
     }
    },
    "colab_type": "code",
    "id": "vUDOkQ89LT5m",
    "outputId": "fa3b9fcf-aeef-4f66-a9a5-759687d40456"
   },
   "outputs": [
    {
     "data": {
      "text/html": [
       "\n",
       "     <input type=\"file\" id=\"files-5e50483c-d6be-4d8e-a393-0f7d3bbc1560\" name=\"files[]\" multiple disabled />\n",
       "     <output id=\"result-5e50483c-d6be-4d8e-a393-0f7d3bbc1560\">\n",
       "      Upload widget is only available when the cell has been executed in the\n",
       "      current browser session. Please rerun this cell to enable.\n",
       "      </output>\n",
       "      <script src=\"/nbextensions/google.colab/files.js\"></script> "
      ],
      "text/plain": [
       "<IPython.core.display.HTML object>"
      ]
     },
     "metadata": {
      "tags": []
     },
     "output_type": "display_data"
    },
    {
     "name": "stdout",
     "output_type": "stream",
     "text": [
      "Saving dataset2.csv to dataset2.csv\n"
     ]
    }
   ],
   "source": [
    "#uploaded = files.upload()\n",
    "\n",
    "df = pd.read_csv('dataset2.csv')"
   ]
  },
  {
   "cell_type": "code",
   "execution_count": 0,
   "metadata": {
    "colab": {},
    "colab_type": "code",
    "id": "9piMrJw_qbNC"
   },
   "outputs": [],
   "source": [
    "df.drop('Unnamed: 0', axis=1, inplace=True)  # Drop column with all unique values\n",
    "df.drop(['iso_lpc','iso_hpc','iso_lpt','iso_hpt','lpc','hpc','lpt','hpt',\n",
    "         'lpc_cond','hpc_cond','lpt_cond','hpt_cond','condition'], \n",
    "         axis=1, inplace=True) # Drop columns with extra targets and non sensor data"
   ]
  },
  {
   "cell_type": "code",
   "execution_count": 6,
   "metadata": {
    "colab": {
     "base_uri": "https://localhost:8080/",
     "height": 439
    },
    "colab_type": "code",
    "id": "8ILWrOb7qikN",
    "outputId": "3a038b6a-cab5-4ec4-eb0e-ce822587d0ea"
   },
   "outputs": [
    {
     "data": {
      "text/html": [
       "<div>\n",
       "<style scoped>\n",
       "    .dataframe tbody tr th:only-of-type {\n",
       "        vertical-align: middle;\n",
       "    }\n",
       "\n",
       "    .dataframe tbody tr th {\n",
       "        vertical-align: top;\n",
       "    }\n",
       "\n",
       "    .dataframe thead th {\n",
       "        text-align: right;\n",
       "    }\n",
       "</style>\n",
       "<table border=\"1\" class=\"dataframe\">\n",
       "  <thead>\n",
       "    <tr style=\"text-align: right;\">\n",
       "      <th></th>\n",
       "      <th>comb_T</th>\n",
       "      <th>comb_P</th>\n",
       "      <th>cp_T</th>\n",
       "      <th>cp_P</th>\n",
       "      <th>ct_T</th>\n",
       "      <th>ct_P</th>\n",
       "      <th>lpc_pr</th>\n",
       "      <th>lpc_mfr</th>\n",
       "      <th>hpc_pr</th>\n",
       "      <th>hpc_mfr</th>\n",
       "      <th>lpt_pr</th>\n",
       "      <th>lpt_mfr</th>\n",
       "      <th>hpt_pr</th>\n",
       "      <th>hpt_mfr</th>\n",
       "      <th>hpc_h</th>\n",
       "      <th>LPC_rpm</th>\n",
       "      <th>HPC_rpm</th>\n",
       "      <th>lpc_mfr_cor</th>\n",
       "      <th>hpc_mfr_cor</th>\n",
       "      <th>pressure_after_turbine</th>\n",
       "      <th>temperature_after_turbine</th>\n",
       "      <th>HPC_T</th>\n",
       "      <th>Power</th>\n",
       "      <th>state</th>\n",
       "    </tr>\n",
       "  </thead>\n",
       "  <tbody>\n",
       "    <tr>\n",
       "      <th>0</th>\n",
       "      <td>1121.027843</td>\n",
       "      <td>1.934155e+06</td>\n",
       "      <td>487.873435</td>\n",
       "      <td>478373.384656</td>\n",
       "      <td>1044.646799</td>\n",
       "      <td>1.003484e+06</td>\n",
       "      <td>4.907747</td>\n",
       "      <td>55.089967</td>\n",
       "      <td>3.762197</td>\n",
       "      <td>74.301834</td>\n",
       "      <td>3.273320</td>\n",
       "      <td>92.415420</td>\n",
       "      <td>1.859505</td>\n",
       "      <td>91.120411</td>\n",
       "      <td>799886.187358</td>\n",
       "      <td>6740.722638</td>\n",
       "      <td>11061.622656</td>\n",
       "      <td>56.045572</td>\n",
       "      <td>20.412854</td>\n",
       "      <td>307165.977698</td>\n",
       "      <td>1000.103213</td>\n",
       "      <td>727.113808</td>\n",
       "      <td>1.570970e+07</td>\n",
       "      <td>0</td>\n",
       "    </tr>\n",
       "    <tr>\n",
       "      <th>1</th>\n",
       "      <td>1101.383705</td>\n",
       "      <td>1.870613e+06</td>\n",
       "      <td>492.110673</td>\n",
       "      <td>494532.925591</td>\n",
       "      <td>1045.666471</td>\n",
       "      <td>1.005638e+06</td>\n",
       "      <td>4.697406</td>\n",
       "      <td>59.573568</td>\n",
       "      <td>4.064708</td>\n",
       "      <td>40.431138</td>\n",
       "      <td>3.237030</td>\n",
       "      <td>92.247843</td>\n",
       "      <td>1.927962</td>\n",
       "      <td>93.562618</td>\n",
       "      <td>816039.485023</td>\n",
       "      <td>6731.737265</td>\n",
       "      <td>11084.829831</td>\n",
       "      <td>60.606947</td>\n",
       "      <td>10.791201</td>\n",
       "      <td>310056.123884</td>\n",
       "      <td>998.939700</td>\n",
       "      <td>739.700788</td>\n",
       "      <td>1.571000e+07</td>\n",
       "      <td>0</td>\n",
       "    </tr>\n",
       "    <tr>\n",
       "      <th>2</th>\n",
       "      <td>1109.103883</td>\n",
       "      <td>1.896016e+06</td>\n",
       "      <td>490.765034</td>\n",
       "      <td>479028.642282</td>\n",
       "      <td>1033.890420</td>\n",
       "      <td>9.846720e+05</td>\n",
       "      <td>4.917318</td>\n",
       "      <td>53.762339</td>\n",
       "      <td>3.678097</td>\n",
       "      <td>73.187783</td>\n",
       "      <td>3.339362</td>\n",
       "      <td>91.115776</td>\n",
       "      <td>1.856296</td>\n",
       "      <td>89.800167</td>\n",
       "      <td>799882.209366</td>\n",
       "      <td>6726.338005</td>\n",
       "      <td>10961.258241</td>\n",
       "      <td>54.694915</td>\n",
       "      <td>20.138704</td>\n",
       "      <td>295451.880607</td>\n",
       "      <td>990.144751</td>\n",
       "      <td>727.110702</td>\n",
       "      <td>1.459269e+07</td>\n",
       "      <td>0</td>\n",
       "    </tr>\n",
       "    <tr>\n",
       "      <th>3</th>\n",
       "      <td>1100.530500</td>\n",
       "      <td>1.865636e+06</td>\n",
       "      <td>494.667665</td>\n",
       "      <td>501878.625921</td>\n",
       "      <td>1045.583185</td>\n",
       "      <td>1.005125e+06</td>\n",
       "      <td>4.766531</td>\n",
       "      <td>59.492935</td>\n",
       "      <td>3.997239</td>\n",
       "      <td>40.091410</td>\n",
       "      <td>3.331660</td>\n",
       "      <td>92.162160</td>\n",
       "      <td>1.924854</td>\n",
       "      <td>93.477161</td>\n",
       "      <td>816640.028508</td>\n",
       "      <td>6753.830286</td>\n",
       "      <td>11010.961657</td>\n",
       "      <td>60.524915</td>\n",
       "      <td>10.571266</td>\n",
       "      <td>301089.696111</td>\n",
       "      <td>998.756246</td>\n",
       "      <td>740.167690</td>\n",
       "      <td>1.529860e+07</td>\n",
       "      <td>0</td>\n",
       "    </tr>\n",
       "    <tr>\n",
       "      <th>4</th>\n",
       "      <td>1120.458011</td>\n",
       "      <td>1.930078e+06</td>\n",
       "      <td>490.297768</td>\n",
       "      <td>485135.163941</td>\n",
       "      <td>1044.498869</td>\n",
       "      <td>1.002869e+06</td>\n",
       "      <td>4.977630</td>\n",
       "      <td>54.972848</td>\n",
       "      <td>3.699776</td>\n",
       "      <td>74.413869</td>\n",
       "      <td>3.363508</td>\n",
       "      <td>92.328929</td>\n",
       "      <td>1.855676</td>\n",
       "      <td>91.000313</td>\n",
       "      <td>800307.446760</td>\n",
       "      <td>6763.132397</td>\n",
       "      <td>10990.911469</td>\n",
       "      <td>55.926422</td>\n",
       "      <td>20.208715</td>\n",
       "      <td>298776.721417</td>\n",
       "      <td>999.933626</td>\n",
       "      <td>727.442770</td>\n",
       "      <td>1.518896e+07</td>\n",
       "      <td>0</td>\n",
       "    </tr>\n",
       "    <tr>\n",
       "      <th>...</th>\n",
       "      <td>...</td>\n",
       "      <td>...</td>\n",
       "      <td>...</td>\n",
       "      <td>...</td>\n",
       "      <td>...</td>\n",
       "      <td>...</td>\n",
       "      <td>...</td>\n",
       "      <td>...</td>\n",
       "      <td>...</td>\n",
       "      <td>...</td>\n",
       "      <td>...</td>\n",
       "      <td>...</td>\n",
       "      <td>...</td>\n",
       "      <td>...</td>\n",
       "      <td>...</td>\n",
       "      <td>...</td>\n",
       "      <td>...</td>\n",
       "      <td>...</td>\n",
       "      <td>...</td>\n",
       "      <td>...</td>\n",
       "      <td>...</td>\n",
       "      <td>...</td>\n",
       "      <td>...</td>\n",
       "      <td>...</td>\n",
       "    </tr>\n",
       "    <tr>\n",
       "      <th>143995</th>\n",
       "      <td>1063.510524</td>\n",
       "      <td>1.763751e+06</td>\n",
       "      <td>478.423445</td>\n",
       "      <td>428033.259154</td>\n",
       "      <td>995.515189</td>\n",
       "      <td>9.108743e+05</td>\n",
       "      <td>4.404672</td>\n",
       "      <td>48.922843</td>\n",
       "      <td>3.819567</td>\n",
       "      <td>67.832610</td>\n",
       "      <td>2.996195</td>\n",
       "      <td>86.198059</td>\n",
       "      <td>1.865729</td>\n",
       "      <td>84.936331</td>\n",
       "      <td>793775.911248</td>\n",
       "      <td>6445.483863</td>\n",
       "      <td>11042.091107</td>\n",
       "      <td>49.771472</td>\n",
       "      <td>20.624568</td>\n",
       "      <td>304784.873872</td>\n",
       "      <td>954.807136</td>\n",
       "      <td>722.337921</td>\n",
       "      <td>1.341034e+07</td>\n",
       "      <td>15</td>\n",
       "    </tr>\n",
       "    <tr>\n",
       "      <th>143996</th>\n",
       "      <td>1101.185335</td>\n",
       "      <td>1.867740e+06</td>\n",
       "      <td>493.936740</td>\n",
       "      <td>468112.502238</td>\n",
       "      <td>1027.204847</td>\n",
       "      <td>9.683570e+05</td>\n",
       "      <td>4.806724</td>\n",
       "      <td>52.614410</td>\n",
       "      <td>3.708553</td>\n",
       "      <td>71.643203</td>\n",
       "      <td>3.181053</td>\n",
       "      <td>89.951373</td>\n",
       "      <td>1.860509</td>\n",
       "      <td>88.666748</td>\n",
       "      <td>810829.787386</td>\n",
       "      <td>6673.395553</td>\n",
       "      <td>11043.706947</td>\n",
       "      <td>53.527073</td>\n",
       "      <td>20.238487</td>\n",
       "      <td>304980.118958</td>\n",
       "      <td>984.338210</td>\n",
       "      <td>735.647298</td>\n",
       "      <td>1.464006e+07</td>\n",
       "      <td>15</td>\n",
       "    </tr>\n",
       "    <tr>\n",
       "      <th>143997</th>\n",
       "      <td>1088.513867</td>\n",
       "      <td>1.818307e+06</td>\n",
       "      <td>504.883789</td>\n",
       "      <td>496549.122701</td>\n",
       "      <td>1034.916405</td>\n",
       "      <td>9.784412e+05</td>\n",
       "      <td>4.712881</td>\n",
       "      <td>57.599550</td>\n",
       "      <td>3.939633</td>\n",
       "      <td>38.442922</td>\n",
       "      <td>3.214185</td>\n",
       "      <td>90.197375</td>\n",
       "      <td>1.926815</td>\n",
       "      <td>91.493049</td>\n",
       "      <td>838729.397078</td>\n",
       "      <td>6709.709599</td>\n",
       "      <td>11034.013730</td>\n",
       "      <td>58.598687</td>\n",
       "      <td>10.350647</td>\n",
       "      <td>303814.187739</td>\n",
       "      <td>989.395570</td>\n",
       "      <td>757.291254</td>\n",
       "      <td>1.480181e+07</td>\n",
       "      <td>15</td>\n",
       "    </tr>\n",
       "    <tr>\n",
       "      <th>143998</th>\n",
       "      <td>1092.494351</td>\n",
       "      <td>1.828604e+06</td>\n",
       "      <td>501.689217</td>\n",
       "      <td>507964.477742</td>\n",
       "      <td>1039.883169</td>\n",
       "      <td>9.877018e+05</td>\n",
       "      <td>4.819288</td>\n",
       "      <td>58.261364</td>\n",
       "      <td>3.879304</td>\n",
       "      <td>38.362387</td>\n",
       "      <td>3.408822</td>\n",
       "      <td>90.769847</td>\n",
       "      <td>1.922236</td>\n",
       "      <td>92.123935</td>\n",
       "      <td>836533.815388</td>\n",
       "      <td>6754.575068</td>\n",
       "      <td>10901.707900</td>\n",
       "      <td>59.271981</td>\n",
       "      <td>10.064849</td>\n",
       "      <td>289122.151469</td>\n",
       "      <td>993.959859</td>\n",
       "      <td>755.593517</td>\n",
       "      <td>1.437336e+07</td>\n",
       "      <td>15</td>\n",
       "    </tr>\n",
       "    <tr>\n",
       "      <th>143999</th>\n",
       "      <td>1079.223345</td>\n",
       "      <td>1.789756e+06</td>\n",
       "      <td>505.605495</td>\n",
       "      <td>517803.284635</td>\n",
       "      <td>1028.592886</td>\n",
       "      <td>9.706738e+05</td>\n",
       "      <td>4.910900</td>\n",
       "      <td>57.150849</td>\n",
       "      <td>3.729788</td>\n",
       "      <td>36.839998</td>\n",
       "      <td>3.583361</td>\n",
       "      <td>89.591463</td>\n",
       "      <td>1.916451</td>\n",
       "      <td>90.966897</td>\n",
       "      <td>823083.079491</td>\n",
       "      <td>6770.153125</td>\n",
       "      <td>10693.223291</td>\n",
       "      <td>58.142203</td>\n",
       "      <td>9.518715</td>\n",
       "      <td>270274.435819</td>\n",
       "      <td>983.468158</td>\n",
       "      <td>745.172314</td>\n",
       "      <td>1.309054e+07</td>\n",
       "      <td>15</td>\n",
       "    </tr>\n",
       "  </tbody>\n",
       "</table>\n",
       "<p>144000 rows × 24 columns</p>\n",
       "</div>"
      ],
      "text/plain": [
       "             comb_T        comb_P        cp_T  ...       HPC_T         Power  state\n",
       "0       1121.027843  1.934155e+06  487.873435  ...  727.113808  1.570970e+07      0\n",
       "1       1101.383705  1.870613e+06  492.110673  ...  739.700788  1.571000e+07      0\n",
       "2       1109.103883  1.896016e+06  490.765034  ...  727.110702  1.459269e+07      0\n",
       "3       1100.530500  1.865636e+06  494.667665  ...  740.167690  1.529860e+07      0\n",
       "4       1120.458011  1.930078e+06  490.297768  ...  727.442770  1.518896e+07      0\n",
       "...             ...           ...         ...  ...         ...           ...    ...\n",
       "143995  1063.510524  1.763751e+06  478.423445  ...  722.337921  1.341034e+07     15\n",
       "143996  1101.185335  1.867740e+06  493.936740  ...  735.647298  1.464006e+07     15\n",
       "143997  1088.513867  1.818307e+06  504.883789  ...  757.291254  1.480181e+07     15\n",
       "143998  1092.494351  1.828604e+06  501.689217  ...  755.593517  1.437336e+07     15\n",
       "143999  1079.223345  1.789756e+06  505.605495  ...  745.172314  1.309054e+07     15\n",
       "\n",
       "[144000 rows x 24 columns]"
      ]
     },
     "execution_count": 6,
     "metadata": {
      "tags": []
     },
     "output_type": "execute_result"
    }
   ],
   "source": [
    "df"
   ]
  },
  {
   "cell_type": "code",
   "execution_count": 0,
   "metadata": {
    "colab": {},
    "colab_type": "code",
    "id": "UCz74ui_q2QY"
   },
   "outputs": [],
   "source": [
    "X = df.drop('state', axis=1)\n",
    "y = df.state\n",
    "y = np.array(y)\n",
    "\n",
    "X_train, X_test, y_train, y_test = train_test_split(X, y, test_size=0.4, random_state=0, stratify=y)"
   ]
  },
  {
   "cell_type": "markdown",
   "metadata": {
    "colab_type": "text",
    "id": "Sr_hvna5q-Zk"
   },
   "source": [
    "# Train the best classifier on bigger dataset"
   ]
  },
  {
   "cell_type": "code",
   "execution_count": 0,
   "metadata": {
    "colab": {
     "base_uri": "https://localhost:8080/",
     "height": 153
    },
    "colab_type": "code",
    "id": "-wAltoRyq6vE",
    "outputId": "7235e327-3108-4d2a-999f-28553550146f"
   },
   "outputs": [
    {
     "data": {
      "text/plain": [
       "RandomForestClassifier(bootstrap=True, ccp_alpha=0.0, class_weight=None,\n",
       "                       criterion='gini', max_depth=None, max_features='auto',\n",
       "                       max_leaf_nodes=None, max_samples=None,\n",
       "                       min_impurity_decrease=0.0, min_impurity_split=None,\n",
       "                       min_samples_leaf=1, min_samples_split=2,\n",
       "                       min_weight_fraction_leaf=0.0, n_estimators=200,\n",
       "                       n_jobs=-1, oob_score=False, random_state=0, verbose=0,\n",
       "                       warm_start=False)"
      ]
     },
     "execution_count": 155,
     "metadata": {
      "tags": []
     },
     "output_type": "execute_result"
    }
   ],
   "source": [
    "rfc = RandomForestClassifier(n_estimators=200, n_jobs=-1, random_state=0)\n",
    "rfc.fit(X_train, y_train)"
   ]
  },
  {
   "cell_type": "code",
   "execution_count": 0,
   "metadata": {
    "colab": {
     "base_uri": "https://localhost:8080/",
     "height": 68
    },
    "colab_type": "code",
    "id": "32CNI4NdrcEH",
    "outputId": "da10e4fc-e338-4b87-92c9-83c2b7591404"
   },
   "outputs": [
    {
     "name": "stdout",
     "output_type": "stream",
     "text": [
      "Test\n",
      "F1 Score: 0.93\n",
      "Recall Score: 0.93\n"
     ]
    }
   ],
   "source": [
    "y_pred_test = rfc.predict(X_test)\n",
    "f1 = f1_score(y_test, y_pred_test, average='macro')  # Set macro cause we have balanced dataset\n",
    "recall = recall_score(y_test, y_pred_test, average='macro')\n",
    "print('Test')\n",
    "print(f'F1 Score: {round(f1, 2)}') \n",
    "print(f'Recall Score: {round(recall, 2)}')   "
   ]
  },
  {
   "cell_type": "markdown",
   "metadata": {
    "colab_type": "text",
    "id": "MJ7JO0pgtXEo"
   },
   "source": [
    "## As we notice, Recall has considerably increased with bigger dataset!!! "
   ]
  },
  {
   "cell_type": "markdown",
   "metadata": {
    "colab_type": "text",
    "id": "_mSE5GM2LT48"
   },
   "source": [
    "# 3. Try to Implement Neural Network Using PyTorch (code from HW2)"
   ]
  },
  {
   "cell_type": "markdown",
   "metadata": {
    "colab_type": "text",
    "id": "mlwPcD1Dq-Ji"
   },
   "source": [
    "# 3.1 First, plot our dataset in 2D using Latent Space from Autoencoder"
   ]
  },
  {
   "cell_type": "code",
   "execution_count": 0,
   "metadata": {
    "colab": {},
    "colab_type": "code",
    "id": "HmbNj_-esQ1f"
   },
   "outputs": [],
   "source": [
    "scaler = StandardScaler()\n",
    "X_train_sc = scaler.fit_transform(X_train)\n",
    "X_test_sc = scaler.transform(X_test)"
   ]
  },
  {
   "cell_type": "code",
   "execution_count": 0,
   "metadata": {
    "colab": {},
    "colab_type": "code",
    "id": "Epu7CKGhLT49"
   },
   "outputs": [],
   "source": [
    "class Data(torch_data.Dataset):\n",
    "    def __init__(self, X, y):\n",
    "        super(Data, self).__init__()\n",
    "        self.X = torch.tensor(X, dtype=torch.float32)\n",
    "        self.y = torch.tensor(y, dtype=torch.float32)\n",
    "    \n",
    "    def __len__(self):\n",
    "        return self.X.shape[0]\n",
    "    \n",
    "    def __getitem__(self, idx):\n",
    "        return self.X[idx], self.y[idx]"
   ]
  },
  {
   "cell_type": "code",
   "execution_count": 0,
   "metadata": {
    "colab": {},
    "colab_type": "code",
    "id": "Clzie1XdLT5A"
   },
   "outputs": [],
   "source": [
    "train_dset = Data(X_train_sc, y_train) \n",
    "test_dset = Data(X_test_sc, y_test) "
   ]
  },
  {
   "cell_type": "code",
   "execution_count": 0,
   "metadata": {
    "colab": {},
    "colab_type": "code",
    "id": "XZ-3-0mdLT5D"
   },
   "outputs": [],
   "source": [
    "class AE(nn.Module):\n",
    "    def __init__(self, encoder, decoder):\n",
    "        super(AE, self).__init__()\n",
    "        self.encoder = encoder\n",
    "        self.decoder = decoder\n",
    "    \n",
    "    def forward(self, x):\n",
    "        x_out = self.decoder(self.encoder(x))\n",
    "        return x_out"
   ]
  },
  {
   "cell_type": "code",
   "execution_count": 0,
   "metadata": {
    "colab": {},
    "colab_type": "code",
    "id": "Jo_8hJEuLT5K"
   },
   "outputs": [],
   "source": [
    "in_dim = 23\n",
    "\n",
    "encoder = lambda hidden: nn.Sequential(\n",
    "                                        nn.Linear(in_dim, in_dim*3),\n",
    "                                        nn.LeakyReLU(inplace=True),\n",
    "                                        nn.Linear(in_dim*3, in_dim*2),\n",
    "                                        nn.LeakyReLU(inplace=True),\n",
    "                                        nn.Linear(in_dim*2, hidden)\n",
    "                                      )  \n",
    "\n",
    "decoder = lambda hidden: nn.Sequential(\n",
    "                                        nn.Linear(hidden, in_dim*2),\n",
    "                                        nn.LeakyReLU(inplace=True),\n",
    "                                        nn.Linear(in_dim*2, in_dim*3),\n",
    "                                        nn.LeakyReLU(inplace=True),\n",
    "                                        nn.Linear(in_dim*3, in_dim)\n",
    "                                      )"
   ]
  },
  {
   "cell_type": "code",
   "execution_count": 0,
   "metadata": {
    "colab": {},
    "colab_type": "code",
    "id": "UcrIevMyLT5P"
   },
   "outputs": [],
   "source": [
    "device = torch.device('cpu')\n",
    "\n",
    "net = AE(encoder(2), decoder(2))  \n",
    "criterion = nn.MSELoss()\n",
    "optimizer = torch.optim.Adam(net.parameters(), lr=0.001)\n",
    "scheduler = torch.optim.lr_scheduler.StepLR(optimizer, step_size=200, gamma=0.7) \n",
    "\n",
    "train_loader = torch_data.DataLoader(train_dset, batch_size=100, shuffle=True) \n",
    "test_loader = torch_data.DataLoader(test_dset, batch_size=200, shuffle=False) "
   ]
  },
  {
   "cell_type": "code",
   "execution_count": 0,
   "metadata": {
    "colab": {},
    "colab_type": "code",
    "id": "qDw-OawnLT5S"
   },
   "outputs": [],
   "source": [
    "def train(epochs, net, criterion, optimizer, train_loader, val_loader, scheduler=None, verbose=True, save_dir=None):\n",
    "    net.to(device)\n",
    "    for epoch in range(1, epochs+1):\n",
    "        net.train()\n",
    "        for X, _ in train_loader:\n",
    "            # Perform one step of minibatch stochastic gradient descent            \n",
    "            X = X.to(device)\n",
    "            out = net(X)\n",
    "            loss = criterion(out, X)\n",
    "            optimizer.zero_grad()\n",
    "            loss.backward()\n",
    "            optimizer.step()\n",
    "        \n",
    "        net.eval()\n",
    "        for X, _ in val_loader:\n",
    "            \n",
    "            # Compute the validation loss            \n",
    "            X = X.to(device)\n",
    "            out = net(X)\n",
    "            val_loss = criterion(out, X)\n",
    "         \n",
    "        if scheduler is not None:\n",
    "            scheduler.step()\n",
    "        freq = max(epochs//20,1)\n",
    "        if verbose and epoch%freq==0:\n",
    "            print('Epoch {}/{} || Loss:  Train {:.4f} | Validation {:.4f}'.format(epoch, epochs, loss.item(), val_loss.item()))"
   ]
  },
  {
   "cell_type": "code",
   "execution_count": 19,
   "metadata": {
    "colab": {
     "base_uri": "https://localhost:8080/",
     "height": 357
    },
    "colab_type": "code",
    "id": "5tFx3tKuLT5V",
    "outputId": "d38f091a-bf18-4b96-f4dc-cabe46bcba55"
   },
   "outputs": [
    {
     "name": "stdout",
     "output_type": "stream",
     "text": [
      "Epoch 5/100 || Loss:  Train 0.0098 | Validation 0.0081\n",
      "Epoch 10/100 || Loss:  Train 0.0085 | Validation 0.0076\n",
      "Epoch 15/100 || Loss:  Train 0.0055 | Validation 0.0065\n",
      "Epoch 20/100 || Loss:  Train 0.0050 | Validation 0.0057\n",
      "Epoch 25/100 || Loss:  Train 0.0049 | Validation 0.0068\n",
      "Epoch 30/100 || Loss:  Train 0.0033 | Validation 0.0049\n",
      "Epoch 35/100 || Loss:  Train 0.0057 | Validation 0.0056\n",
      "Epoch 40/100 || Loss:  Train 0.0039 | Validation 0.0059\n",
      "Epoch 45/100 || Loss:  Train 0.0035 | Validation 0.0047\n",
      "Epoch 50/100 || Loss:  Train 0.0063 | Validation 0.0044\n",
      "Epoch 55/100 || Loss:  Train 0.0038 | Validation 0.0042\n",
      "Epoch 60/100 || Loss:  Train 0.0062 | Validation 0.0041\n",
      "Epoch 65/100 || Loss:  Train 0.0040 | Validation 0.0044\n",
      "Epoch 70/100 || Loss:  Train 0.0052 | Validation 0.0042\n",
      "Epoch 75/100 || Loss:  Train 0.0028 | Validation 0.0041\n",
      "Epoch 80/100 || Loss:  Train 0.0055 | Validation 0.0036\n",
      "Epoch 85/100 || Loss:  Train 0.0051 | Validation 0.0036\n",
      "Epoch 90/100 || Loss:  Train 0.0050 | Validation 0.0045\n",
      "Epoch 95/100 || Loss:  Train 0.0063 | Validation 0.0038\n",
      "Epoch 100/100 || Loss:  Train 0.0043 | Validation 0.0039\n"
     ]
    }
   ],
   "source": [
    "train(100, net, criterion, optimizer, train_loader, test_loader, scheduler) "
   ]
  },
  {
   "cell_type": "code",
   "execution_count": 0,
   "metadata": {
    "colab": {},
    "colab_type": "code",
    "id": "3gpp2EZBLT5Z"
   },
   "outputs": [],
   "source": [
    "tr_dset = net.encoder(train_dset[:][0]).detach().numpy()\n",
    "tt_dset = net.encoder(test_dset[:][0]).detach().numpy()"
   ]
  },
  {
   "cell_type": "markdown",
   "metadata": {
    "colab_type": "text",
    "id": "9lQAiVnOcj79"
   },
   "source": [
    "## Let's get the picture of faults in latent space"
   ]
  },
  {
   "cell_type": "code",
   "execution_count": 32,
   "metadata": {
    "colab": {
     "base_uri": "https://localhost:8080/",
     "height": 320
    },
    "colab_type": "code",
    "id": "iOk_aXFzaACA",
    "outputId": "816e006f-82ba-4fbd-b44b-cdfd94e8cc35"
   },
   "outputs": [
    {
     "data": {
      "image/png": "[encoded data removed]",
      "text/plain": [
       "<Figure size 1008x360 with 1 Axes>"
      ]
     },
     "metadata": {
      "tags": []
     },
     "output_type": "display_data"
    }
   ],
   "source": [
    "plt.figure(figsize=(8, 5))\n",
    "plt.scatter(tr_dset[:,0], tr_dset[:,1], c=train_dset[:][1], alpha=0.7)\n",
    "plt.xlabel('Latent Feature 1')\n",
    "plt.ylabel('Latent Feature 2')\n",
    "plt.show()"
   ]
  },
  {
   "cell_type": "markdown",
   "metadata": {
    "colab_type": "text",
    "id": "3S6Fex0qLT5d"
   },
   "source": [
    "# 3.2 Implement Multi Layer Perceptron \n",
    "\n"
   ]
  },
  {
   "cell_type": "code",
   "execution_count": 0,
   "metadata": {
    "colab": {},
    "colab_type": "code",
    "id": "cNqXPtIVthR_"
   },
   "outputs": [],
   "source": [
    "np.random.seed(0)\n",
    "\n",
    "input_size = in_dim\n",
    "hidden_dim_size = 80\n",
    "number_of_classes = 16\n",
    "\n",
    "mlp = torch.nn.Sequential(\n",
    "    torch.nn.Linear(input_size, hidden_dim_size, bias=True),\n",
    "    torch.nn.ReLU(),\n",
    "    torch.nn.Linear(hidden_dim_size, hidden_dim_size, bias=True),\n",
    "    torch.nn.ReLU(),\n",
    "    torch.nn.Linear(hidden_dim_size, hidden_dim_size, bias=True),\n",
    "    torch.nn.ReLU(),\n",
    "    torch.nn.Linear(hidden_dim_size, hidden_dim_size, bias=True),\n",
    "    torch.nn.ReLU(),\n",
    "    torch.nn.Linear(hidden_dim_size, number_of_classes, bias=True)\n",
    ")\n",
    "\n",
    "criterion_mlp = nn.CrossEntropyLoss()\n",
    "optimizer_mlp = torch.optim.Adam(mlp.parameters(), lr=0.001)\n",
    "scheduler_mlp = torch.optim.lr_scheduler.StepLR(optimizer_mlp, step_size=200, gamma=0.7) \n",
    "\n",
    "def train_MLP(epochs, net, criterion, optimizer, train_loader, val_loader, scheduler=None, verbose=True, save_dir=None):\n",
    "    net.to(device)\n",
    "    \n",
    "    learning_curve = [0] * epochs\n",
    "    test_curve = [0] * epochs\n",
    "    recall_curve = [0] * epochs\n",
    "    f1_curve = [0] * epochs\n",
    "\n",
    "    max_val_recall = 0\n",
    "    max_val_recall_epoch = 0\n",
    "    for epoch in tqdm(range(epochs)):\n",
    "        net.train()\n",
    "        f1_train, recall_train = [], []\n",
    "        for X, y in train_loader:\n",
    "            # Perform one step of minibatch stochastic gradient descent  \n",
    "            y = y.to(device=device, dtype=torch.int64)\n",
    "            X = X.to(device)\n",
    "            out = net(X)\n",
    "            loss = criterion(out, y)\n",
    "            f1_train.append(f1_score(y.detach().numpy(), \n",
    "                            np.argmax(torch.log_softmax(out, dim=1).detach().numpy(), axis=1),\n",
    "                            average='macro'))\n",
    "            \n",
    "            recall_train.append(recall_score(y.detach().numpy(),\n",
    "                            np.argmax(torch.log_softmax(out, dim=1).detach().numpy(), axis=1), \n",
    "                            average='macro'))\n",
    "            learning_curve[epoch] += loss.item()\n",
    "            optimizer.zero_grad()\n",
    "            loss.backward()\n",
    "            optimizer.step()\n",
    "        #learning_curve[epoch] /= X_train_sc.shape[0]\n",
    "        net.eval()       \n",
    "\n",
    "        f1 = []\n",
    "        recall = []\n",
    "        for X, y in val_loader:\n",
    "            y = y.to(device=device, dtype=torch.int64)\n",
    "            # Compute the validation loss            \n",
    "            X = X.to(device)\n",
    "            out = net(X)\n",
    "            val_loss = criterion(out, y)\n",
    "\n",
    "            f1.append(f1_score(y.detach().numpy(), \n",
    "                               np.argmax(torch.log_softmax(out, dim=1).detach().numpy(), axis=1), average='macro'))\n",
    "            recall.append(recall_score(y.detach().numpy(),\n",
    "                                       np.argmax(torch.log_softmax(out, dim=1).detach().numpy(), axis=1), average='macro'))\n",
    "            test_curve[epoch] += val_loss.item()\n",
    "\n",
    "        val_recall = recall[-1]\n",
    "        recall_curve[epoch] += recall[-1]\n",
    "        f1_curve[epoch] += f1[-1]\n",
    "\n",
    "        if val_recall > max_val_recall:\n",
    "            max_val_recall = val_recall\n",
    "            max_val_recall_epoch = epoch   \n",
    "            \n",
    "        if scheduler is not None:\n",
    "            scheduler.step()\n",
    "                       \n",
    "        freq = max(epochs//10,1)\n",
    "        if verbose and epoch%freq==0:\n",
    "            print('Epoch {}/{} || Loss:  Train {:.4f} | Validation {:.4f}'.format(epoch, epochs, loss.item(), val_loss.item()))\n",
    "            print('f1_train: ',np.mean(f1_train), ' test: ', np.mean(f1))\n",
    "            print('recall_train: ',np.mean(recall_train),' test: ', np.mean(recall),'\\n')\n",
    "   \n",
    "    print('Max Recall: ', max_val_recall)\n",
    "    print('Max Recall Epoch: ', max_val_recall_epoch)\n",
    "\n",
    "    plt.figure(figsize=(8, 4))        \n",
    "    plt.plot(learning_curve,label='train')\n",
    "    plt.plot(test_curve, label='test')\n",
    "    plt.legend()\n",
    "    plt.xlabel('Epochs')\n",
    "    plt.ylabel('Softmax crossentropy loss')\n",
    "    plt.show()\n",
    "\n",
    "    plt.figure(figsize=(8, 4))        \n",
    "    plt.plot(recall_curve, label='Recall')\n",
    "    plt.plot(f1_curve, label='F1')\n",
    "    plt.xlabel('Epochs')\n",
    "    plt.ylabel('Score')\n",
    "    plt.legend()\n",
    "    plt.show()"
   ]
  },
  {
   "cell_type": "code",
   "execution_count": 19,
   "metadata": {
    "colab": {
     "base_uri": "https://localhost:8080/",
     "height": 1000,
     "referenced_widgets": [
      "e1e852c81ad84c1f85d890d37c26a1e0",
      "cab5f85fd8d44dfeb05b9b2e6e80c7b6",
      "2ad2c7ca6b2a4a068ebbf32afc140332",
      "500fbb7a3d3d4282a31b6e444debaa45",
      "5962fef22d5b48e4b2a4b37faa1891cf",
      "21b6b2d7f0ce4aa6b82dc1cc693df823",
      "d6f239f71f4b46e3ba03d369d8da728c",
      "d938b3b26b174e39918158f534885225"
     ]
    },
    "colab_type": "code",
    "id": "9ntgDkzkoKYL",
    "outputId": "3703283d-a3af-4d21-ea0a-80cd52246dfa"
   },
   "outputs": [
    {
     "data": {
      "application/vnd.jupyter.widget-view+json": {
       "model_id": "e1e852c81ad84c1f85d890d37c26a1e0",
       "version_major": 2,
       "version_minor": 0
      },
      "text/plain": [
       "HBox(children=(IntProgress(value=0), HTML(value='')))"
      ]
     },
     "metadata": {
      "tags": []
     },
     "output_type": "display_data"
    },
    {
     "name": "stderr",
     "output_type": "stream",
     "text": [
      "/usr/local/lib/python3.6/dist-packages/sklearn/metrics/_classification.py:1272: UndefinedMetricWarning: Recall is ill-defined and being set to 0.0 in labels with no true samples. Use `zero_division` parameter to control this behavior.\n",
      "  _warn_prf(average, modifier, msg_start, len(result))\n"
     ]
    },
    {
     "name": "stdout",
     "output_type": "stream",
     "text": [
      "Epoch 0/100 || Loss:  Train 0.9589 | Validation 0.9346\n",
      "f1_train:  0.36972595546401643  test:  0.4773718158189907\n",
      "recall_train:  0.4311138125248921  test:  0.5166395589810988 \n",
      "\n",
      "Epoch 10/100 || Loss:  Train 0.4698 | Validation 0.4301\n",
      "f1_train:  0.7744460412194303  test:  0.801106279356275\n",
      "recall_train:  0.7915593092085061  test:  0.8087456301962818 \n",
      "\n",
      "Epoch 20/100 || Loss:  Train 0.4302 | Validation 0.4689\n",
      "f1_train:  0.8184676126047622  test:  0.7751492640523668\n",
      "recall_train:  0.8328847529114329  test:  0.7908924356778938 \n",
      "\n",
      "Epoch 30/100 || Loss:  Train 0.3076 | Validation 0.2906\n",
      "f1_train:  0.8421917903743102  test:  0.8562740289717825\n",
      "recall_train:  0.8546957569246705  test:  0.8618751247297277 \n",
      "\n",
      "Epoch 40/100 || Loss:  Train 0.2386 | Validation 0.2478\n",
      "f1_train:  0.8543302949810189  test:  0.8766957850976175\n",
      "recall_train:  0.8662000270123824  test:  0.8826615769817148 \n",
      "\n",
      "Epoch 50/100 || Loss:  Train 0.1541 | Validation 0.2254\n",
      "f1_train:  0.8661950873317811  test:  0.8765002483016128\n",
      "recall_train:  0.8775511953819608  test:  0.8810359986082812 \n",
      "\n",
      "Epoch 60/100 || Loss:  Train 0.2450 | Validation 0.2237\n",
      "f1_train:  0.8811169217664961  test:  0.8960061744439773\n",
      "recall_train:  0.8915843268037236  test:  0.9004791599000256 \n",
      "\n",
      "Epoch 70/100 || Loss:  Train 0.2807 | Validation 0.2436\n",
      "f1_train:  0.8899590954043636  test:  0.8871989658700292\n",
      "recall_train:  0.8989035785713666  test:  0.8917814424914118 \n",
      "\n",
      "Epoch 80/100 || Loss:  Train 0.1429 | Validation 0.1934\n",
      "f1_train:  0.9055754809869992  test:  0.901066204415517\n",
      "recall_train:  0.913136070703345  test:  0.9046088527877258 \n",
      "\n",
      "Epoch 90/100 || Loss:  Train 0.1153 | Validation 0.1794\n",
      "f1_train:  0.9170542778368197  test:  0.935599736391416\n",
      "recall_train:  0.9245649576460762  test:  0.9384163581274885 \n",
      "\n",
      "\n",
      "Max Recall:  0.9454542852980353\n",
      "Max Recall Epoch:  73\n"
     ]
    },
    {
     "data": {
      "image/png": "[encoded data removed]",
      "text/plain": [
       "<Figure size 576x288 with 1 Axes>"
      ]
     },
     "metadata": {
      "tags": []
     },
     "output_type": "display_data"
    },
    {
     "data": {
      "image/png": "[encoded data removed]",
      "text/plain": [
       "<Figure size 576x288 with 1 Axes>"
      ]
     },
     "metadata": {
      "tags": []
     },
     "output_type": "display_data"
    }
   ],
   "source": [
    "train_MLP(100, mlp, criterion_mlp, optimizer_mlp, train_loader, test_loader, scheduler_mlp)"
   ]
  },
  {
   "cell_type": "markdown",
   "metadata": {
    "colab_type": "text",
    "id": "iPG9-KT-bDEq"
   },
   "source": [
    "# 4. Add Stacking (code from HW2)"
   ]
  },
  {
   "cell_type": "code",
   "execution_count": 0,
   "metadata": {
    "colab": {},
    "colab_type": "code",
    "id": "3KLlHP4gqYmO"
   },
   "outputs": [],
   "source": [
    "clf1 = ExtraTreesClassifier(n_estimators=200, n_jobs=-1, random_state=0)\n",
    "clf2 = RandomForestClassifier(n_estimators=200, n_jobs=-1, random_state=0)\n",
    "clf3 = ExtraTreesClassifier(n_estimators=100, n_jobs=-1, random_state=0)\n",
    "clf4 = RandomForestClassifier(n_estimators=100, n_jobs=-1, random_state=0)\n",
    "clf5 = XGBClassifier(n_estimators=100, n_jobs=-1, random_state=0)\n",
    "clf6 = XGBClassifier(n_estimators=200, n_jobs=-1, random_state=0)\n",
    "final = XGBClassifier(n_jobs=-1, random_state=0)\n",
    "\n",
    "clfs = [clf1, clf2, clf3, clf4, clf5, clf6]\n",
    "\n",
    "y_train = pd.Series(y_train)\n",
    "y_test = pd.Series(y_test)"
   ]
  },
  {
   "cell_type": "code",
   "execution_count": 0,
   "metadata": {
    "colab": {},
    "colab_type": "code",
    "id": "Q45P5gBjqYmQ"
   },
   "outputs": [],
   "source": [
    "def meta_classifier(base_clfs, final_classifier, X_train, X_test, y_train, cv):\n",
    "    \"\"\"\n",
    "    Meta classifier prediction using stacking. \n",
    "    Input:\n",
    "    :param base_clfs: list,  base classifiers which will be stacked together.\n",
    "    :param final_classifier: estimator, a classifier which will be used to combine the base estimators. \n",
    "    :param X_train: numpy array or pandas table, train set.\n",
    "    :param X_test: numpy array or pandas table, target for train set.\n",
    "    :param X_train: numpy array or pandas table, test set.\n",
    "    \n",
    "    Output:\n",
    "    :param y_pred: numpy array or pandas table, prediction of meta classifier using stacking on test set.\n",
    "    :param final_classifier(optional): estimator, trained final_calssifier.\n",
    "    \n",
    "    More details https://scikit-learn.org/stable/modules/generated/sklearn.ensemble.StackingClassifier.html\n",
    "    \n",
    "    \"\"\"\n",
    "    skf = StratifiedKFold(n_splits=cv, random_state=0)\n",
    "    train = np.array(list(skf.split(X_train, y_train)))\n",
    "    X, y = train[:, 0], train[:, 1]\n",
    "    dataset_blend_train = np.zeros((X_train.shape[0], len(clfs)))\n",
    "    dataset_blend_test = np.zeros((X_test.shape[0], len(clfs)))\n",
    "\n",
    "    for j, clf in enumerate(base_clfs):\n",
    "        for i, (train, test) in enumerate(zip(X, y)):\n",
    "            X_train_ = X_train.iloc[train]\n",
    "            y_train_ = y_train.iloc[train]\n",
    "            X_test_ = X_train.iloc[test]\n",
    "            y_test_ = y_train.iloc[test]\n",
    "            clf.fit(X_train_, y_train_)\n",
    "            y_pred = clf.predict(X_test_)\n",
    "            dataset_blend_train[test, j] = y_pred\n",
    "\n",
    "        y_small_preds_test = clf.predict(X_test)\n",
    "        dataset_blend_test[:, j] = y_small_preds_test        \n",
    "        print('clf #' + str(j+1) + ' trained')\n",
    "            \n",
    "    final_classifier.fit(dataset_blend_train, y_train)\n",
    "    y_preds = final_classifier.predict(dataset_blend_test)\n",
    "    \n",
    "    return y_preds, final_classifier"
   ]
  },
  {
   "cell_type": "code",
   "execution_count": 10,
   "metadata": {
    "colab": {
     "base_uri": "https://localhost:8080/",
     "height": 119
    },
    "colab_type": "code",
    "id": "OeY65vRub4XD",
    "outputId": "54faa375-e6ae-4c2c-bae6-1b8aedca5f60"
   },
   "outputs": [
    {
     "name": "stdout",
     "output_type": "stream",
     "text": [
      "clf #1 trained\n",
      "clf #2 trained\n",
      "clf #3 trained\n",
      "clf #4 trained\n",
      "clf #5 trained\n",
      "clf #6 trained\n"
     ]
    }
   ],
   "source": [
    "predictions, final_clf = meta_classifier(base_clfs=clfs, final_classifier=final, X_train=X_train, X_test=X_test, y_train=y_train, cv=5)"
   ]
  },
  {
   "cell_type": "code",
   "execution_count": 0,
   "metadata": {
    "colab": {
     "base_uri": "https://localhost:8080/",
     "height": 51
    },
    "colab_type": "code",
    "id": "AH3uPTfAqYmZ",
    "outputId": "12422d63-7bf6-4927-f85e-8f776f4d9f9c"
   },
   "outputs": [
    {
     "name": "stdout",
     "output_type": "stream",
     "text": [
      "Recall score for Stacking:  0.9315146797531153\n",
      "F1 score for Stacking:  0.9312539062541205\n"
     ]
    }
   ],
   "source": [
    "print('Recall score for Stacking: ', recall_score(y_test, predictions, average='macro'))\n",
    "print('F1 score for Stacking: ', f1_score(y_test, predictions, average='macro'))"
   ]
  },
  {
   "cell_type": "markdown",
   "metadata": {
    "colab_type": "text",
    "id": "S2kHAQ7niQ71"
   },
   "source": [
    "## Wonderful result, isn't it?"
   ]
  }
 ],
 "metadata": {
  "accelerator": "GPU",
  "colab": {
   "name": "Project10.ipynb",
   "provenance": []
  },
  "kernelspec": {
   "display_name": "Python 3",
   "language": "python",
   "name": "python3"
  },
  "language_info": {
   "codemirror_mode": {
    "name": "ipython",
    "version": 3
   },
   "file_extension": ".py",
   "mimetype": "text/x-python",
   "name": "python",
   "nbconvert_exporter": "python",
   "pygments_lexer": "ipython3",
   "version": "3.7.4"
  },
  "widgets": {
   "application/vnd.jupyter.widget-state+json": {
    "21b6b2d7f0ce4aa6b82dc1cc693df823": {
     "model_module": "@jupyter-widgets/base",
     "model_name": "LayoutModel",
     "state": {
      "_model_module": "@jupyter-widgets/base",
      "_model_module_version": "1.2.0",
      "_model_name": "LayoutModel",
      "_view_count": null,
      "_view_module": "@jupyter-widgets/base",
      "_view_module_version": "1.2.0",
      "_view_name": "LayoutView",
      "align_content": null,
      "align_items": null,
      "align_self": null,
      "border": null,
      "bottom": null,
      "display": null,
      "flex": null,
      "flex_flow": null,
      "grid_area": null,
      "grid_auto_columns": null,
      "grid_auto_flow": null,
      "grid_auto_rows": null,
      "grid_column": null,
      "grid_gap": null,
      "grid_row": null,
      "grid_template_areas": null,
      "grid_template_columns": null,
      "grid_template_rows": null,
      "height": null,
      "justify_content": null,
      "justify_items": null,
      "left": null,
      "margin": null,
      "max_height": null,
      "max_width": null,
      "min_height": null,
      "min_width": null,
      "object_fit": null,
      "object_position": null,
      "order": null,
      "overflow": null,
      "overflow_x": null,
      "overflow_y": null,
      "padding": null,
      "right": null,
      "top": null,
      "visibility": null,
      "width": null
     }
    },
    "2ad2c7ca6b2a4a068ebbf32afc140332": {
     "model_module": "@jupyter-widgets/controls",
     "model_name": "IntProgressModel",
     "state": {
      "_dom_classes": [],
      "_model_module": "@jupyter-widgets/controls",
      "_model_module_version": "1.5.0",
      "_model_name": "IntProgressModel",
      "_view_count": null,
      "_view_module": "@jupyter-widgets/controls",
      "_view_module_version": "1.5.0",
      "_view_name": "ProgressView",
      "bar_style": "success",
      "description": "100%",
      "description_tooltip": null,
      "layout": "IPY_MODEL_21b6b2d7f0ce4aa6b82dc1cc693df823",
      "max": 100,
      "min": 0,
      "orientation": "horizontal",
      "style": "IPY_MODEL_5962fef22d5b48e4b2a4b37faa1891cf",
      "value": 100
     }
    },
    "500fbb7a3d3d4282a31b6e444debaa45": {
     "model_module": "@jupyter-widgets/controls",
     "model_name": "HTMLModel",
     "state": {
      "_dom_classes": [],
      "_model_module": "@jupyter-widgets/controls",
      "_model_module_version": "1.5.0",
      "_model_name": "HTMLModel",
      "_view_count": null,
      "_view_module": "@jupyter-widgets/controls",
      "_view_module_version": "1.5.0",
      "_view_name": "HTMLView",
      "description": "",
      "description_tooltip": null,
      "layout": "IPY_MODEL_d938b3b26b174e39918158f534885225",
      "placeholder": "​",
      "style": "IPY_MODEL_d6f239f71f4b46e3ba03d369d8da728c",
      "value": " 100/100 [07:48&lt;00:00,  4.68s/it]"
     }
    },
    "5962fef22d5b48e4b2a4b37faa1891cf": {
     "model_module": "@jupyter-widgets/controls",
     "model_name": "ProgressStyleModel",
     "state": {
      "_model_module": "@jupyter-widgets/controls",
      "_model_module_version": "1.5.0",
      "_model_name": "ProgressStyleModel",
      "_view_count": null,
      "_view_module": "@jupyter-widgets/base",
      "_view_module_version": "1.2.0",
      "_view_name": "StyleView",
      "bar_color": null,
      "description_width": "initial"
     }
    },
    "cab5f85fd8d44dfeb05b9b2e6e80c7b6": {
     "model_module": "@jupyter-widgets/base",
     "model_name": "LayoutModel",
     "state": {
      "_model_module": "@jupyter-widgets/base",
      "_model_module_version": "1.2.0",
      "_model_name": "LayoutModel",
      "_view_count": null,
      "_view_module": "@jupyter-widgets/base",
      "_view_module_version": "1.2.0",
      "_view_name": "LayoutView",
      "align_content": null,
      "align_items": null,
      "align_self": null,
      "border": null,
      "bottom": null,
      "display": null,
      "flex": null,
      "flex_flow": null,
      "grid_area": null,
      "grid_auto_columns": null,
      "grid_auto_flow": null,
      "grid_auto_rows": null,
      "grid_column": null,
      "grid_gap": null,
      "grid_row": null,
      "grid_template_areas": null,
      "grid_template_columns": null,
      "grid_template_rows": null,
      "height": null,
      "justify_content": null,
      "justify_items": null,
      "left": null,
      "margin": null,
      "max_height": null,
      "max_width": null,
      "min_height": null,
      "min_width": null,
      "object_fit": null,
      "object_position": null,
      "order": null,
      "overflow": null,
      "overflow_x": null,
      "overflow_y": null,
      "padding": null,
      "right": null,
      "top": null,
      "visibility": null,
      "width": null
     }
    },
    "d6f239f71f4b46e3ba03d369d8da728c": {
     "model_module": "@jupyter-widgets/controls",
     "model_name": "DescriptionStyleModel",
     "state": {
      "_model_module": "@jupyter-widgets/controls",
      "_model_module_version": "1.5.0",
      "_model_name": "DescriptionStyleModel",
      "_view_count": null,
      "_view_module": "@jupyter-widgets/base",
      "_view_module_version": "1.2.0",
      "_view_name": "StyleView",
      "description_width": ""
     }
    },
    "d938b3b26b174e39918158f534885225": {
     "model_module": "@jupyter-widgets/base",
     "model_name": "LayoutModel",
     "state": {
      "_model_module": "@jupyter-widgets/base",
      "_model_module_version": "1.2.0",
      "_model_name": "LayoutModel",
      "_view_count": null,
      "_view_module": "@jupyter-widgets/base",
      "_view_module_version": "1.2.0",
      "_view_name": "LayoutView",
      "align_content": null,
      "align_items": null,
      "align_self": null,
      "border": null,
      "bottom": null,
      "display": null,
      "flex": null,
      "flex_flow": null,
      "grid_area": null,
      "grid_auto_columns": null,
      "grid_auto_flow": null,
      "grid_auto_rows": null,
      "grid_column": null,
      "grid_gap": null,
      "grid_row": null,
      "grid_template_areas": null,
      "grid_template_columns": null,
      "grid_template_rows": null,
      "height": null,
      "justify_content": null,
      "justify_items": null,
      "left": null,
      "margin": null,
      "max_height": null,
      "max_width": null,
      "min_height": null,
      "min_width": null,
      "object_fit": null,
      "object_position": null,
      "order": null,
      "overflow": null,
      "overflow_x": null,
      "overflow_y": null,
      "padding": null,
      "right": null,
      "top": null,
      "visibility": null,
      "width": null
     }
    },
    "e1e852c81ad84c1f85d890d37c26a1e0": {
     "model_module": "@jupyter-widgets/controls",
     "model_name": "HBoxModel",
     "state": {
      "_dom_classes": [],
      "_model_module": "@jupyter-widgets/controls",
      "_model_module_version": "1.5.0",
      "_model_name": "HBoxModel",
      "_view_count": null,
      "_view_module": "@jupyter-widgets/controls",
      "_view_module_version": "1.5.0",
      "_view_name": "HBoxView",
      "box_style": "",
      "children": [
       "IPY_MODEL_2ad2c7ca6b2a4a068ebbf32afc140332",
       "IPY_MODEL_500fbb7a3d3d4282a31b6e444debaa45"
      ],
      "layout": "IPY_MODEL_cab5f85fd8d44dfeb05b9b2e6e80c7b6"
     }
    }
   }
  }
 },
 "nbformat": 4,
 "nbformat_minor": 1
}
